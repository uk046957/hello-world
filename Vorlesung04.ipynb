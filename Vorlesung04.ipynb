{
  "nbformat": 4,
  "nbformat_minor": 0,
  "metadata": {
    "colab": {
      "name": "Vorlesung04.ipynb",
      "provenance": [],
      "collapsed_sections": []
    },
    "kernelspec": {
      "name": "python3",
      "display_name": "Python 3"
    },
    "language_info": {
      "name": "python"
    }
  },
  "cells": [
    {
      "cell_type": "markdown",
      "metadata": {
        "id": "l7b_aO4Xdpxx"
      },
      "source": [
        "# Numpy"
      ]
    },
    {
      "cell_type": "code",
      "metadata": {
        "colab": {
          "base_uri": "https://localhost:8080/"
        },
        "id": "vuDgisG0dl0Z",
        "outputId": "4b1a07d6-3220-442e-c438-1477d6ebfbfd"
      },
      "source": [
        "import numpy as np\n",
        "\n",
        "# Erzeugt ein ndarray\n",
        "np_a = np.array([1, 2, 3.5])\n",
        "\n",
        "print(np_a)\n",
        "print(type(np_a))"
      ],
      "execution_count": null,
      "outputs": [
        {
          "output_type": "stream",
          "text": [
            "[1.  2.  3.5]\n",
            "<class 'numpy.ndarray'>\n"
          ],
          "name": "stdout"
        }
      ]
    },
    {
      "cell_type": "markdown",
      "metadata": {
        "id": "pU_49EovBn93"
      },
      "source": [
        "\n",
        "```\n",
        "#include <Python.h>\n",
        "#include <math.h>\n",
        "\n",
        "PyMODINIT_FUNC\n",
        "init{module_name}(void)\n",
        "{\n",
        "   (void)Py_InitModule({modulename}, mymethods);\n",
        "   import_array();\n",
        "}\n",
        "\n",
        "static PyMethodDef mymethods[] = {\n",
        "    { nokeywordfunc,nokeyword_cfunc,\n",
        "      METH_VARARGS,\n",
        "      Doc string},\n",
        "    { keywordfunc, keyword_cfunc,\n",
        "      METH_VARARGS|METH_KEYWORDS,\n",
        "      Doc string},\n",
        "    {NULL, NULL, 0, NULL} /* Sentinel */\n",
        "}\n",
        "\n",
        "static PyObject* myfunction(PyObject *self, PyObject *args)\n",
        "{...}\n",
        "\n",
        "```\n",
        "\n"
      ]
    },
    {
      "cell_type": "code",
      "metadata": {
        "colab": {
          "base_uri": "https://localhost:8080/"
        },
        "id": "OC_-3QKJt85Z",
        "outputId": "5c011e8a-f950-483b-8fb9-d8619029f86c"
      },
      "source": [
        "import numpy as np\n",
        "\n",
        "# Erzeugt ein ndarray mit 64 Bit Integern\n",
        "np_a = np.array([1, 212343150413, 78])\n",
        "print(np_a, \" -> elements have type \", type(np_a[0]))\n",
        "\n",
        "# Erzeugt ein ndarray mit 64 Bit Floats\n",
        "np_a = np.array([1, 212343.150413, 78])\n",
        "print(np_a, \" -> elements have type \", type(np_a[0]))\n",
        "\n",
        "# Erzeugt ein ndarray mit Python-Integern\n",
        "np_a = np.array([1, 3, 812345678664312314556744])\n",
        "print(np_a, \" -> elements have type \", type(np_a[0]))\n"
      ],
      "execution_count": null,
      "outputs": [
        {
          "output_type": "stream",
          "text": [
            "[           1 212343150413           78]  -> elements have type  <class 'numpy.int64'>\n",
            "[1.0000000e+00 2.1234315e+05 7.8000000e+01]  -> elements have type  <class 'numpy.float64'>\n",
            "[1 3 812345678664312314556744]  -> elements have type  <class 'int'>\n"
          ],
          "name": "stdout"
        }
      ]
    },
    {
      "cell_type": "code",
      "metadata": {
        "colab": {
          "base_uri": "https://localhost:8080/"
        },
        "id": "CHv6f5kaIJ1B",
        "outputId": "87845bc3-fcee-41dc-dcd4-0efa7754ed0a"
      },
      "source": [
        "import numpy as np\n",
        "\n",
        "def change_elem(vector_x):\n",
        "  # vector_x = vector_x.copy()\n",
        "  vector_x[0] = 5\n",
        "  return vector_x\n",
        "\n",
        "vector_x = np.array([1, 2, 3, 4, 5])\n",
        "\n",
        "vector_changed = change_elem(vector_x)\n",
        "\n",
        "print(vector_x)\n",
        "print(vector_changed)\n",
        "print(id(vector_x))\n",
        "print(id(vector_changed))"
      ],
      "execution_count": null,
      "outputs": [
        {
          "output_type": "stream",
          "text": [
            "[5 2 3 4 5]\n",
            "[5 2 3 4 5]\n",
            "140145597157744\n",
            "140145597157744\n"
          ],
          "name": "stdout"
        }
      ]
    },
    {
      "cell_type": "code",
      "metadata": {
        "colab": {
          "base_uri": "https://localhost:8080/"
        },
        "id": "nj8OfJKfxH_q",
        "outputId": "791733d7-3aeb-4651-b72b-2d6bdb6d255f"
      },
      "source": [
        "import numpy as np\n",
        "\n",
        "# Zwei ndarrays mit 64 Bit Integern\n",
        "vector_a = np.array([1, 2, 3])\n",
        "vector_b = np.array([1, 2, 3])\n",
        "\n",
        "print(\"Addition:\", vector_a + vector_b)\n",
        "\n",
        "print(\"Elementweise Multiplikation:\", vector_a * vector_b)\n",
        "\n",
        "print(\"Skalarprodukt a1*b1 + a2*b2 + a3*b3:\", vector_a @ vector_b)\n",
        "\n",
        "# Broadcasting der Operation auf alle Elemente\n",
        "print(\"Multiplikation mit Skalar:\", vector_a * 4)\n",
        "\n",
        "# Broadcasting der Operation auf alle Elemente\n",
        "print(\"Potenzieren mit Skalar:\", vector_a ** 4)\n",
        "\n",
        "# In-place-Addition (Broadcasting der Operation auf alle Elemente)\n",
        "vector_a += 4\n",
        "print(\"Addition mit Skalar:\", vector_a)\n",
        "\n",
        "# Folgende Addition würde zu einem Fehler führen, \n",
        "# da es kein 64 Bit Integer mehr wäre\n",
        "# vector_a += 445645123465432164645\n",
        "# print(\"Addition mit Skalar:\", vector_a)\n",
        "\n",
        "vector_c = np.array([1, 2, 3])\n",
        "\n",
        "# Nur die ersten drei Elemente von vector_c werden einbezogen\n",
        "vector_a += vector_c\n",
        "print(\"Addition, unterschiedliche Elementenanzahl:\", vector_a)\n",
        "\n",
        "product_ac = vector_a @ vector_c\n",
        "print(\"Skalarprodukt, unterschiedliche Elementenanzahl:\", product_ac)\n",
        "print(\"mit Ergebnistyp des Skalarprodukts:\", type(product_ac))\n",
        "\n",
        "int_a = product_ac + 4\n",
        "# int_a = product_ac + 4456451234564315461231564\n",
        "print(\"Ergebnistyp der Addition:\", type(int_a))\n",
        "\n",
        "int_b = int(int_a)\n",
        "print(\"Nach Cast:\", type(int_b))\n"
      ],
      "execution_count": null,
      "outputs": [
        {
          "output_type": "stream",
          "text": [
            "Addition: [2 4 6]\n",
            "Elementweise Multiplikation: [1 4 9]\n",
            "Skalarprodukt a1*b1 + a2*b2 + a3*b3: 14\n",
            "Multiplikation mit Skalar: [ 4  8 12]\n",
            "Potenzieren mit Skalar: [ 1 16 81]\n",
            "Addition mit Skalar: [5 6 7]\n",
            "Addition, unterschiedliche Elementenanzahl: [ 6  8 10]\n",
            "Skalarprodukt, unterschiedliche Elementenanzahl: 52\n",
            "mit Ergebnistyp des Skalarprodukts: <class 'numpy.int64'>\n",
            "Ergebnistyp der Addition: <class 'numpy.int64'>\n",
            "Nach Cast: <class 'int'>\n"
          ],
          "name": "stdout"
        }
      ]
    },
    {
      "cell_type": "code",
      "metadata": {
        "colab": {
          "base_uri": "https://localhost:8080/"
        },
        "id": "WdsBuAfV6MX8",
        "outputId": "3a0e7357-7b5e-4cb1-b494-445733b5ae7f"
      },
      "source": [
        "import numpy as np\n",
        "from math import cos\n",
        "\n",
        "# Zwei ndarrays mit 64 Bit Integern\n",
        "vector_a = np.array([1, 2, 3])\n",
        "vector_b = np.array([1, 2, 3])\n",
        "\n",
        "# 'TypeError: only size-1 arrays can be converted to Python scalars'\n",
        "# print(cos(vector_a))\n",
        "\n",
        "print(\"Sinus elementweise: \", np.sin(vector_a))\n",
        "print(\"Arith. Mittelwert:  \", np.mean(vector_a))\n",
        "print(\"Standardabweichung: \", np.std(vector_a))\n",
        "\n"
      ],
      "execution_count": null,
      "outputs": [
        {
          "output_type": "stream",
          "text": [
            "Sinus elementweise: [0.84147098 0.90929743 0.14112001]\n",
            "Arith. Mittelwert:  2.0\n",
            "Standardabweichung:  0.816496580927726\n"
          ],
          "name": "stdout"
        }
      ]
    },
    {
      "cell_type": "markdown",
      "metadata": {
        "id": "VmT-5p06XS8w"
      },
      "source": [
        "Ableitung numerisch bilden mittels Durchschnitt aus $f'(a) \\approx \\frac{f(a) - f(a - h)}{h}$ und $f'(a) \\approx \\frac{f(a + h) - f(a)}{h}$, also:\n",
        "\n",
        "> $f'(a) \\approx \\frac{1}{2} \\left( \\frac{f(a + h) - f(a)}{h} + \\frac{f(a) - f(a - h)}{h} \\right) = \\frac{f(a + h) - f(a - h)}{2h}$\n",
        "\n",
        "\n",
        "Entspricht ungefähr: \n",
        "\n",
        "> $f'(a) = \\lim_{h \\to 0} \\frac{f(a+h) - f(a)}{h}$\n",
        "\n"
      ]
    },
    {
      "cell_type": "code",
      "metadata": {
        "colab": {
          "base_uri": "https://localhost:8080/"
        },
        "id": "BM9qRWsuD3qH",
        "outputId": "961c85f7-b7fa-4e4f-ab5b-603e3f9f80ce"
      },
      "source": [
        "import numpy as np\n",
        "import scipy.misc\n",
        "\n",
        "def f(x) -> np.ndarray:\n",
        "  # Ausdruck mit ndarrays\n",
        "  return x**2 - 5*np.sin(x) - 4\n",
        "\n",
        "def df(x) -> np.ndarray:\n",
        "  # Numerische Ableitung durch Berechnung um Schrittweite h \n",
        "  return sp.misc.derivative(f, x)\n",
        "\n",
        "# Übergabe einer Python-Zahl\n",
        "print(\"f(1) = \", f(1), \"mit Typ\", type(f(1)))\n",
        "print(\"df(1) = \", df(1), \"mit Typ\", type(df(1)))\n",
        "\n",
        "vector_a = np.array([1, 2, 3])\n",
        "\n",
        "# Übergabe eines ndarray\n",
        "print(\"f(vector_a) = \", f(vector_a))\n",
        "print(\"df(vector_a)/dx = \", df(vector_a))\n"
      ],
      "execution_count": null,
      "outputs": [
        {
          "output_type": "stream",
          "text": [
            "f(1) =  -7.207354924039483 mit Typ <class 'numpy.float64'>\n",
            "df(1) =  -0.2732435670642044 mit Typ <class 'numpy.float64'>\n",
            "f(vector_a) =  [-7.20735492 -4.54648713  4.29439996]\n",
            "df(vector_a)/dx =  [-0.27324357  5.75087744 10.16524981]\n"
          ],
          "name": "stdout"
        }
      ]
    },
    {
      "cell_type": "code",
      "metadata": {
        "colab": {
          "base_uri": "https://localhost:8080/"
        },
        "id": "CSa3d07rVpLI",
        "outputId": "fc76ffca-0179-43b5-ac70-5526f86b3fb4"
      },
      "source": [
        "import numpy as np\n",
        "\n",
        "def filter_positives(vector_x) -> np.ndarray:\n",
        "  return_list = []\n",
        "  for elem in vector_x:\n",
        "    if elem < 0: \n",
        "      return_list.append(0)\n",
        "    else:\n",
        "      return_list.append(elem)\n",
        "  return np.array(return_list)\n",
        "\n",
        "# Folgende Zeile erzeugt Fehler: TypeError: 'int' object is not iterable\n",
        "# print(\"Zahl 10 filtern:\", filter_positives(10))\n",
        "\n",
        "vector_a = np.array([1, -2, 3])\n",
        "\n",
        "print(\"Vektor ist:\", vector_a)\n",
        "print(\"Numpy Array filtern:\", filter_positives(vector_a))"
      ],
      "execution_count": null,
      "outputs": [
        {
          "output_type": "stream",
          "text": [
            "Vektor ist: [ 1 -2  3]\n",
            "Numpy Array filtern: [1 0 3]\n"
          ],
          "name": "stdout"
        }
      ]
    },
    {
      "cell_type": "code",
      "metadata": {
        "colab": {
          "base_uri": "https://localhost:8080/"
        },
        "id": "5t59KSx4xu6P",
        "outputId": "77749c08-e68f-4141-a5f6-4c8306b746d1"
      },
      "source": [
        "import numpy as np\n",
        "\n",
        "# Numpy Decorator\n",
        "@np.vectorize\n",
        "def filter_positives(x):\n",
        "  if x > 0: \n",
        "    return x\n",
        "  else: \n",
        "    return 0\n",
        "\n",
        "print(\"Zahl 10 filtern:\", filter_positives(10))\n",
        "\n",
        "vector_a = np.array([1, -2, 3])\n",
        "\n",
        "vector_positives = filter_positives(vector_a)\n",
        "\n",
        "print(\"Numpy Array Original:\", vector_a, \"mit ID\", id(vector_a))\n",
        "print(\"Numpy Array gefilter:\", vector_positives, \"mit ID\", id(vector_positives))"
      ],
      "execution_count": null,
      "outputs": [
        {
          "output_type": "stream",
          "text": [
            "Zahl 10 filtern: 10\n",
            "Numpy Array Original: [ 1 -2  3] mit ID 140145604811712\n",
            "Numpy Array gefilter: [1 0 3] mit ID 140145604899344\n"
          ],
          "name": "stdout"
        }
      ]
    },
    {
      "cell_type": "code",
      "metadata": {
        "colab": {
          "base_uri": "https://localhost:8080/"
        },
        "id": "OaleIPAR8TVi",
        "outputId": "d3c5911b-416f-45e7-d7ef-60fa32e5a889"
      },
      "source": [
        "def all_upper(func):\n",
        "    func_result = func()\n",
        "    uppercase_result = func_result.upper()\n",
        "    return uppercase_result\n",
        "\n",
        "\n",
        "def greet():\n",
        "    return \"guten tach allerseits\"\n",
        "\n",
        "var1 = greet\n",
        "\n",
        "print(\"var1(): \", var1())\n",
        "\n",
        "print(\"all_upper(greet)\", all_upper(greet))"
      ],
      "execution_count": null,
      "outputs": [
        {
          "output_type": "stream",
          "text": [
            "var1():  guten tach allerseits\n",
            "all_upper(greet) GUTEN TACH ALLERSEITS\n"
          ],
          "name": "stdout"
        }
      ]
    },
    {
      "cell_type": "code",
      "metadata": {
        "colab": {
          "base_uri": "https://localhost:8080/"
        },
        "id": "_KG29cOJ6oEi",
        "outputId": "4077e2c1-e25a-49e0-8965-ff3ce2bb543b"
      },
      "source": [
        "def all_upper(func):\n",
        "    def wrapper():\n",
        "        func_result = func()\n",
        "        uppercase_result = func_result.upper()\n",
        "        return uppercase_result\n",
        "    return wrapper\n",
        "\n",
        "@all_upper\n",
        "def greet_all():\n",
        "    return \"guten tach allerseits\"\n",
        "\n",
        "print(greet_all())\n",
        "\n",
        "\n",
        "def greet():\n",
        "    return \"guten\"\n",
        "\n",
        "print(all_upper(greet)())\n"
      ],
      "execution_count": null,
      "outputs": [
        {
          "output_type": "stream",
          "text": [
            "GUTEN TACH ALLERSEITS\n",
            "GUTEN\n"
          ],
          "name": "stdout"
        }
      ]
    },
    {
      "cell_type": "markdown",
      "metadata": {
        "id": "QjpoCoU3fmvb"
      },
      "source": [
        "**ndarrays erzeugen**"
      ]
    },
    {
      "cell_type": "code",
      "metadata": {
        "colab": {
          "base_uri": "https://localhost:8080/",
          "height": 283
        },
        "id": "_T6D1nMOe0GY",
        "outputId": "1fb68217-5d2d-4377-e920-4517566d34c0"
      },
      "source": [
        "import matplotlib.pyplot as plt\n",
        "import numpy as np\n",
        "\n",
        "# 10 Werte generieren\n",
        "vector_x = np.arange(10)\n",
        "vector_y = vector_x ** 2\n",
        "\n",
        "plt.plot(vector_x, vector_y)\n",
        "plt.show()\n",
        "\n",
        "print(\"vector_x:\", vector_x)"
      ],
      "execution_count": null,
      "outputs": [
        {
          "output_type": "display_data",
          "data": {
            "image/png": "[encoded data removed]",
            "text/plain": [
              "<Figure size 432x288 with 1 Axes>"
            ]
          },
          "metadata": {
            "tags": [],
            "needs_background": "light"
          }
        },
        {
          "output_type": "stream",
          "text": [
            "vector_x: [0 1 2 3 4 5 6 7 8 9]\n"
          ],
          "name": "stdout"
        }
      ]
    },
    {
      "cell_type": "code",
      "metadata": {
        "colab": {
          "base_uri": "https://localhost:8080/"
        },
        "id": "JnTVTmKWmOGI",
        "outputId": "2ba7ebef-55b3-4b32-c715-7133ed3bcb22"
      },
      "source": [
        "# Generiere von inklusive 5 bis exklusive 10 im Abstand von 0.5\n",
        "vector_a = np.arange(5, 10, 0.5)\n",
        "print(\"vector_a:\", vector_a, \"with element types\", vector_a.dtype, \"and memory consumption of\", vector_a.nbytes, \"bytes\")\n",
        "\n",
        "vector_b = np.arange(5, 10, 0.5, dtype=np.float16)\n",
        "print(\"vector_b:\", vector_b, \"with element types\", vector_b.dtype, \"and memory consumption of\", vector_b.nbytes, \"bytes\")"
      ],
      "execution_count": null,
      "outputs": [
        {
          "output_type": "stream",
          "text": [
            "vector_a: [5.  5.5 6.  6.5 7.  7.5 8.  8.5 9.  9.5] with element types float64 and memory consumption of 80 bytes\n",
            "vector_b: [5.  5.5 6.  6.5 7.  7.5 8.  8.5 9.  9.5] with element types float16 and memory consumption of 20 bytes\n"
          ],
          "name": "stdout"
        }
      ]
    },
    {
      "cell_type": "code",
      "metadata": {
        "colab": {
          "base_uri": "https://localhost:8080/"
        },
        "id": "_sV79kX8xGSj",
        "outputId": "a53ad8c5-633e-4ee3-e0f4-5d503d188047"
      },
      "source": [
        "matrix_a = np.array([[1, 2],\n",
        "                     [3, 4],\n",
        "                     [5, 6]])\n",
        "\n",
        "matrix_b = np.array([[1, 2, 3],\n",
        "                     [4, 5, 6]])\n",
        "\n",
        "# Matrix-Multiplikation\n",
        "print(\"matrix_b * matrix_a = \")\n",
        "print( matrix_b @ matrix_a)\n",
        "\n",
        "matrix_c = np.array([[1, 4],\n",
        "                     [2, 5],\n",
        "                     [3, 6]])\n",
        "\n",
        "# Matrix-Multiplikation mit Transponierter\n",
        "print(\"matrix_c.T * matrix_a = \")\n",
        "print( matrix_c.T @ matrix_a)\n",
        "\n",
        "# Zuweisung. ndarrays sind mutabel, die Ansicht \n",
        "# auf Zeilen und Spalten kann jedoch variieren\n",
        "matrix_d = matrix_c.T\n",
        "\n",
        "matrix_d[0,2] = 55\n",
        "print(\"matrix_c =:\")\n",
        "print(matrix_c)\n",
        "\n",
        "print(\"matrix_d =:\")\n",
        "print(matrix_d)\n",
        "\n",
        "# Dimensions of matrices\n",
        "print(\"Shape of matrix_a:\", matrix_a.shape)\n",
        "\n",
        "print(\"Number of dimensions of matrix_a:\", matrix_a.ndim)\n",
        "\n",
        "print(\"Number of elements of matrix_a:\", matrix_a.size)\n",
        "\n"
      ],
      "execution_count": null,
      "outputs": [
        {
          "output_type": "stream",
          "text": [
            "matrix_b * matrix_a = \n",
            "[[22 28]\n",
            " [49 64]]\n",
            "matrix_c.T * matrix_a = \n",
            "[[22 28]\n",
            " [49 64]]\n",
            "matrix_c =:\n",
            "[[ 1  4]\n",
            " [ 2  5]\n",
            " [55  6]]\n",
            "matrix_d =:\n",
            "[[ 1  2 55]\n",
            " [ 4  5  6]]\n",
            "Shape of matrix_a: (3, 2)\n",
            "Number of dimensions of matrix_a: 2\n",
            "Number of elements of matrix_a: 6\n"
          ],
          "name": "stdout"
        }
      ]
    },
    {
      "cell_type": "markdown",
      "metadata": {
        "id": "eJywxioD74la"
      },
      "source": [
        "https://numpy.org/doc/stable/reference/routines.array-creation.html\n",
        "\n",
        "https://numpy.org/doc/stable/reference/random/index.html"
      ]
    },
    {
      "cell_type": "code",
      "metadata": {
        "colab": {
          "base_uri": "https://localhost:8080/"
        },
        "id": "CLIdc_eYz-bz",
        "outputId": "565181fb-1a73-4712-e755-d1ce5d8edb7f"
      },
      "source": [
        "import numpy as np\n",
        "\n",
        "# ndarray mit Nullen und Shape (3, 2) generieren\n",
        "print(\"Nullen (3,2)\")\n",
        "print(np.zeros((3, 2)))\n",
        "\n",
        "# ndarray mit Einsen und Shape (3, 2, 2) generieren\n",
        "print(\"\\nEinsen (3,2,2)\")\n",
        "print(np.ones((3, 2, 2)))\n",
        "\n",
        "# ndarray Identitätsmatrix generieren\n",
        "print(\"\\nIdentitätsmatrix (3,3)\")\n",
        "print(np.identity((3)))\n",
        "\n",
        "# ndarray, Elemente mit gleichmäßigem Abstand generieren\n",
        "print(\"\\nVon 5 bis 10, 20 Elemente\")\n",
        "print(np.linspace(5, 10, 20))"
      ],
      "execution_count": null,
      "outputs": [
        {
          "output_type": "stream",
          "text": [
            "Nullen (3,2)\n",
            "[[0. 0.]\n",
            " [0. 0.]\n",
            " [0. 0.]]\n",
            "\n",
            "Einsen (3,2,2)\n",
            "[[[1. 1.]\n",
            "  [1. 1.]]\n",
            "\n",
            " [[1. 1.]\n",
            "  [1. 1.]]\n",
            "\n",
            " [[1. 1.]\n",
            "  [1. 1.]]]\n",
            "\n",
            "Identitätsmatrix (3,3)\n",
            "[[1. 0. 0.]\n",
            " [0. 1. 0.]\n",
            " [0. 0. 1.]]\n",
            "\n",
            "Von 5 bis 10, 20 Elemente\n",
            "[ 5.          5.26315789  5.52631579  5.78947368  6.05263158  6.31578947\n",
            "  6.57894737  6.84210526  7.10526316  7.36842105  7.63157895  7.89473684\n",
            "  8.15789474  8.42105263  8.68421053  8.94736842  9.21052632  9.47368421\n",
            "  9.73684211 10.        ]\n"
          ],
          "name": "stdout"
        }
      ]
    },
    {
      "cell_type": "markdown",
      "metadata": {
        "id": "LQwKUaTR-5Wu"
      },
      "source": [
        "**Dimensionen eines ndarray und der Zugriff auf Elemente**"
      ]
    },
    {
      "cell_type": "code",
      "metadata": {
        "colab": {
          "base_uri": "https://localhost:8080/"
        },
        "id": "Jhgpnr1B-XCo",
        "outputId": "8ab8afa4-0725-492d-8d9a-5bb0ca09cd4c"
      },
      "source": [
        "import numpy as np\n",
        "\n",
        "scalar_a = np.array(1)\n",
        "print(\"Shape of scalar:\", scalar_a.shape)\n",
        "print(\"Number of axes of scalar: \", scalar_a.ndim)\n",
        "\n",
        "vector_a = np.array([1, 2, 3])\n",
        "print(\"\\nShape of vector:\", vector_a.shape)\n",
        "print(\"Number of axes of vector: \", vector_a.ndim)\n",
        "\n",
        "matrix_2d = np.array([[1, 2],\n",
        "                     [3, 4],\n",
        "                     [5, 6]])\n",
        "print(\"\\nShape of 2D matrix:\", matrix_2d.shape)\n",
        "print(\"Number of axes of 2D matrix: \", matrix_2d.ndim)\n",
        "\n",
        "matrix_3d = np.array([[[1, 2],\n",
        "                       [3, 4]],\n",
        "                      [[5, 6],\n",
        "                       [7, 8.]],\n",
        "                     [[9, 0],\n",
        "                      [1, 2]]])\n",
        "print(\"\\nShape of 3D matrix:\", matrix_3d.shape)\n",
        "print(\"Number of axes of 3D matrix: \", matrix_3d.ndim)\n",
        "\n"
      ],
      "execution_count": null,
      "outputs": [
        {
          "output_type": "stream",
          "text": [
            "Shape of scalar: ()\n",
            "Number of axes of scalar:  0\n",
            "\n",
            "Shape of vector: (3,)\n",
            "Number of axes of vector:  1\n",
            "\n",
            "Shape of 2D matrix: (3, 2)\n",
            "Number of axes of 2D matrix:  2\n",
            "\n",
            "Shape of 3D matrix: (3, 2, 2)\n",
            "Number of axes of 3D matrix:  3\n"
          ],
          "name": "stdout"
        }
      ]
    },
    {
      "cell_type": "code",
      "metadata": {
        "colab": {
          "base_uri": "https://localhost:8080/"
        },
        "id": "Dzp_jyMPZAkh",
        "outputId": "f5a43bb8-cd52-47dd-aa2e-9619e29c0d9c"
      },
      "source": [
        "vector_a = np.array([1, 2, 3, 4, 5, 6])\n",
        "\n",
        "# Slice 0 bis exklusive 2 auswählen\n",
        "vector_b = vector_a[0:2]\n",
        "\n",
        "# Wert des ersten Elements ändern\n",
        "vector_b[0] = 100\n",
        "\n",
        "print(vector_a)\n",
        "print(vector_b)"
      ],
      "execution_count": null,
      "outputs": [
        {
          "output_type": "stream",
          "text": [
            "[100   2   3   4   5   6]\n",
            "[100   2]\n"
          ],
          "name": "stdout"
        }
      ]
    },
    {
      "cell_type": "code",
      "metadata": {
        "colab": {
          "base_uri": "https://localhost:8080/"
        },
        "id": "TKXy9Jg-ahVn",
        "outputId": "2d9247b6-20b9-4772-a969-10f6c7a0ae99"
      },
      "source": [
        "list_a = [[1, 2],\n",
        "          [3, 4],\n",
        "          [5, 6]]\n",
        "# Erstes Element der Matrixliste\n",
        "print(\"First element of list matrix: \", list_a[0][0])          \n",
        "\n",
        "matrix_2d = np.array([[1, 2],\n",
        "                     [3, 4],\n",
        "                     [5, 6]])\n",
        "\n",
        "# Erstes Element der Matrix\n",
        "print(\"First element of numpy matrix:\", matrix_2d[0,0])\n",
        "\n",
        "# Erste Zeile der Matrix\n",
        "print(\"First row of numpy matrix:\", matrix_2d[0])\n",
        "\n",
        "# Erste Zeile der Matrix\n",
        "print(\"First row of numpy matrix:\", matrix_2d[0,:])\n",
        "\n",
        "# Erste Spalte der Matrix\n",
        "print(\"First column of numpy matrix:\", matrix_2d[:,0])\n",
        "\n",
        "# Die zwei ersten Zeilen und Spalten der Matrix\n",
        "print(\"First two rows and columns of numpy matrix:\")\n",
        "print(matrix_2d[0:2,0:2])\n",
        "\n",
        "# Jede zweite Zeile der Matrix. Schrittweite 2\n",
        "print(\"Each second row of numpy matrix:\")\n",
        "print(matrix_2d[::2,:])\n",
        "\n"
      ],
      "execution_count": null,
      "outputs": [
        {
          "output_type": "stream",
          "text": [
            "First element of list matrix:  1\n",
            "First element of numpy matrix: 1\n",
            "First row of numpy matrix: [1 2]\n",
            "First row of numpy matrix: [1 2]\n",
            "First column of numpy matrix: [1 3 5]\n",
            "First two rows and columns of numpy matrix:\n",
            "[[1 2]\n",
            " [3 4]]\n",
            "Each second row of numpy matrix:\n",
            "[[1 2]\n",
            " [5 6]]\n"
          ],
          "name": "stdout"
        }
      ]
    },
    {
      "cell_type": "code",
      "metadata": {
        "colab": {
          "base_uri": "https://localhost:8080/"
        },
        "id": "Is8iuRjWgfOk",
        "outputId": "22515309-f1b3-4352-a36e-4f05bc9bb7f1"
      },
      "source": [
        "matrix_2d = np.array([[1, 2],\n",
        "                     [3, 4],\n",
        "                     [5, 6]])\n",
        "\n",
        "# Gesamtsumme\n",
        "print(matrix_2d.sum())\n",
        "\n",
        "# Zeilensumme\n",
        "print(matrix_2d.sum(axis=0))\n",
        "\n",
        "# Spaltensumme\n",
        "print(matrix_2d.sum(axis=1))\n"
      ],
      "execution_count": null,
      "outputs": [
        {
          "output_type": "stream",
          "text": [
            "21\n",
            "[ 9 12]\n",
            "[ 3  7 11]\n"
          ],
          "name": "stdout"
        }
      ]
    },
    {
      "cell_type": "code",
      "metadata": {
        "colab": {
          "base_uri": "https://localhost:8080/"
        },
        "id": "g-EPvaazlyE0",
        "outputId": "65b2c966-2063-46c3-b812-18955d3d241e"
      },
      "source": [
        "vector_a = np.linspace(1, 9, 9)\n",
        "print(\"vector_a:\", vector_a)\n",
        "\n",
        "# Reshape Vektor zu 3 Zeilen und entsprechend viele Spalten\n",
        "matrix_a = vector_a.reshape((3, -1))\n",
        "#matrix_a = vector_a.reshape((3, 3))\n",
        "print(\"matrix_a:\")\n",
        "print(matrix_a)\n",
        "\n",
        "vector_c = matrix_a.reshape((-1))\n",
        "print(\"vector_c:\", vector_c)"
      ],
      "execution_count": null,
      "outputs": [
        {
          "output_type": "stream",
          "text": [
            "vector_a: [1. 2. 3. 4. 5. 6. 7. 8. 9.]\n",
            "matrix_a:\n",
            "[[1. 2. 3.]\n",
            " [4. 5. 6.]\n",
            " [7. 8. 9.]]\n",
            "vector_c: [1. 2. 3. 4. 5. 6. 7. 8. 9.]\n"
          ],
          "name": "stdout"
        }
      ]
    },
    {
      "cell_type": "markdown",
      "metadata": {
        "id": "YRamRnkV5vs8"
      },
      "source": [
        "**Filter-Ausdrücke**"
      ]
    },
    {
      "cell_type": "code",
      "metadata": {
        "colab": {
          "base_uri": "https://localhost:8080/"
        },
        "id": "Un8tLkttxMyJ",
        "outputId": "5b5f5d86-5f73-4efd-c8cd-2d7e7dfd0c02"
      },
      "source": [
        "import numpy as np\n",
        "\n",
        "vector_a = np.array([1, 0, -100, -1, 50])\n",
        "\n",
        "print(vector_a > 0)"
      ],
      "execution_count": null,
      "outputs": [
        {
          "output_type": "stream",
          "text": [
            "[ True False False False  True]\n"
          ],
          "name": "stdout"
        }
      ]
    },
    {
      "cell_type": "code",
      "metadata": {
        "colab": {
          "base_uri": "https://localhost:8080/"
        },
        "id": "lFur9Av86cmu",
        "outputId": "28ad3360-a473-47a5-e5b3-f5886f7b3e00"
      },
      "source": [
        "# Filtere alle Elemente aus vector_a dir größer als 0 sind\n",
        "vector_b = vector_a[vector_a > 0]\n",
        "#vector_b[0] = 44\n",
        "\n",
        "print(\"vector_b\", vector_b)\n",
        "print(\"vector_a\", vector_a)"
      ],
      "execution_count": null,
      "outputs": [
        {
          "output_type": "stream",
          "text": [
            "vector_b [ 1 50]\n",
            "vector_a [   1    0 -100   -1   50]\n"
          ],
          "name": "stdout"
        }
      ]
    },
    {
      "cell_type": "markdown",
      "metadata": {
        "id": "vbw5lNVP8c1R"
      },
      "source": [
        "# Pandas\n",
        "\n",
        "[User Guide](https://pandas.pydata.org/pandas-docs/stable/user_guide/10min.html)"
      ]
    },
    {
      "cell_type": "markdown",
      "metadata": {
        "id": "9Hgmue4DUCLA"
      },
      "source": [
        "**Allgemeine Infos zum DataFrame und zur Series**"
      ]
    },
    {
      "cell_type": "code",
      "metadata": {
        "colab": {
          "base_uri": "https://localhost:8080/",
          "height": 394
        },
        "id": "oHNW8tGq_-vB",
        "outputId": "0e76f16b-4c31-44df-b2de-7442a6741f99"
      },
      "source": [
        "import pandas as pd\n",
        "\n",
        "# Tabelle aus Datei einlesen\n",
        "df = pd.read_csv(\"sample_data/california_housing_train.csv\")\n",
        "\n",
        "# Die ersten 5 Datensätze darstellen\n",
        "display(df.head())\n",
        "\n",
        "# Die letzten 5 Datensätze darstellen\n",
        "display(df.tail())"
      ],
      "execution_count": null,
      "outputs": [
        {
          "output_type": "display_data",
          "data": {
            "text/html": [
              "<div>\n",
              "<style scoped>\n",
              "    .dataframe tbody tr th:only-of-type {\n",
              "        vertical-align: middle;\n",
              "    }\n",
              "\n",
              "    .dataframe tbody tr th {\n",
              "        vertical-align: top;\n",
              "    }\n",
              "\n",
              "    .dataframe thead th {\n",
              "        text-align: right;\n",
              "    }\n",
              "</style>\n",
              "<table border=\"1\" class=\"dataframe\">\n",
              "  <thead>\n",
              "    <tr style=\"text-align: right;\">\n",
              "      <th></th>\n",
              "      <th>longitude</th>\n",
              "      <th>latitude</th>\n",
              "      <th>housing_median_age</th>\n",
              "      <th>total_rooms</th>\n",
              "      <th>total_bedrooms</th>\n",
              "      <th>population</th>\n",
              "      <th>households</th>\n",
              "      <th>median_income</th>\n",
              "      <th>median_house_value</th>\n",
              "    </tr>\n",
              "  </thead>\n",
              "  <tbody>\n",
              "    <tr>\n",
              "      <th>0</th>\n",
              "      <td>-114.31</td>\n",
              "      <td>34.19</td>\n",
              "      <td>15.0</td>\n",
              "      <td>5612.0</td>\n",
              "      <td>1283.0</td>\n",
              "      <td>1015.0</td>\n",
              "      <td>472.0</td>\n",
              "      <td>1.4936</td>\n",
              "      <td>66900.0</td>\n",
              "    </tr>\n",
              "    <tr>\n",
              "      <th>1</th>\n",
              "      <td>-114.47</td>\n",
              "      <td>34.40</td>\n",
              "      <td>19.0</td>\n",
              "      <td>7650.0</td>\n",
              "      <td>1901.0</td>\n",
              "      <td>1129.0</td>\n",
              "      <td>463.0</td>\n",
              "      <td>1.8200</td>\n",
              "      <td>80100.0</td>\n",
              "    </tr>\n",
              "    <tr>\n",
              "      <th>2</th>\n",
              "      <td>-114.56</td>\n",
              "      <td>33.69</td>\n",
              "      <td>17.0</td>\n",
              "      <td>720.0</td>\n",
              "      <td>174.0</td>\n",
              "      <td>333.0</td>\n",
              "      <td>117.0</td>\n",
              "      <td>1.6509</td>\n",
              "      <td>85700.0</td>\n",
              "    </tr>\n",
              "    <tr>\n",
              "      <th>3</th>\n",
              "      <td>-114.57</td>\n",
              "      <td>33.64</td>\n",
              "      <td>14.0</td>\n",
              "      <td>1501.0</td>\n",
              "      <td>337.0</td>\n",
              "      <td>515.0</td>\n",
              "      <td>226.0</td>\n",
              "      <td>3.1917</td>\n",
              "      <td>73400.0</td>\n",
              "    </tr>\n",
              "    <tr>\n",
              "      <th>4</th>\n",
              "      <td>-114.57</td>\n",
              "      <td>33.57</td>\n",
              "      <td>20.0</td>\n",
              "      <td>1454.0</td>\n",
              "      <td>326.0</td>\n",
              "      <td>624.0</td>\n",
              "      <td>262.0</td>\n",
              "      <td>1.9250</td>\n",
              "      <td>65500.0</td>\n",
              "    </tr>\n",
              "  </tbody>\n",
              "</table>\n",
              "</div>"
            ],
            "text/plain": [
              "   longitude  latitude  ...  median_income  median_house_value\n",
              "0    -114.31     34.19  ...         1.4936             66900.0\n",
              "1    -114.47     34.40  ...         1.8200             80100.0\n",
              "2    -114.56     33.69  ...         1.6509             85700.0\n",
              "3    -114.57     33.64  ...         3.1917             73400.0\n",
              "4    -114.57     33.57  ...         1.9250             65500.0\n",
              "\n",
              "[5 rows x 9 columns]"
            ]
          },
          "metadata": {
            "tags": []
          }
        },
        {
          "output_type": "display_data",
          "data": {
            "text/html": [
              "<div>\n",
              "<style scoped>\n",
              "    .dataframe tbody tr th:only-of-type {\n",
              "        vertical-align: middle;\n",
              "    }\n",
              "\n",
              "    .dataframe tbody tr th {\n",
              "        vertical-align: top;\n",
              "    }\n",
              "\n",
              "    .dataframe thead th {\n",
              "        text-align: right;\n",
              "    }\n",
              "</style>\n",
              "<table border=\"1\" class=\"dataframe\">\n",
              "  <thead>\n",
              "    <tr style=\"text-align: right;\">\n",
              "      <th></th>\n",
              "      <th>longitude</th>\n",
              "      <th>latitude</th>\n",
              "      <th>housing_median_age</th>\n",
              "      <th>total_rooms</th>\n",
              "      <th>total_bedrooms</th>\n",
              "      <th>population</th>\n",
              "      <th>households</th>\n",
              "      <th>median_income</th>\n",
              "      <th>median_house_value</th>\n",
              "    </tr>\n",
              "  </thead>\n",
              "  <tbody>\n",
              "    <tr>\n",
              "      <th>16995</th>\n",
              "      <td>-124.26</td>\n",
              "      <td>40.58</td>\n",
              "      <td>52.0</td>\n",
              "      <td>2217.0</td>\n",
              "      <td>394.0</td>\n",
              "      <td>907.0</td>\n",
              "      <td>369.0</td>\n",
              "      <td>2.3571</td>\n",
              "      <td>111400.0</td>\n",
              "    </tr>\n",
              "    <tr>\n",
              "      <th>16996</th>\n",
              "      <td>-124.27</td>\n",
              "      <td>40.69</td>\n",
              "      <td>36.0</td>\n",
              "      <td>2349.0</td>\n",
              "      <td>528.0</td>\n",
              "      <td>1194.0</td>\n",
              "      <td>465.0</td>\n",
              "      <td>2.5179</td>\n",
              "      <td>79000.0</td>\n",
              "    </tr>\n",
              "    <tr>\n",
              "      <th>16997</th>\n",
              "      <td>-124.30</td>\n",
              "      <td>41.84</td>\n",
              "      <td>17.0</td>\n",
              "      <td>2677.0</td>\n",
              "      <td>531.0</td>\n",
              "      <td>1244.0</td>\n",
              "      <td>456.0</td>\n",
              "      <td>3.0313</td>\n",
              "      <td>103600.0</td>\n",
              "    </tr>\n",
              "    <tr>\n",
              "      <th>16998</th>\n",
              "      <td>-124.30</td>\n",
              "      <td>41.80</td>\n",
              "      <td>19.0</td>\n",
              "      <td>2672.0</td>\n",
              "      <td>552.0</td>\n",
              "      <td>1298.0</td>\n",
              "      <td>478.0</td>\n",
              "      <td>1.9797</td>\n",
              "      <td>85800.0</td>\n",
              "    </tr>\n",
              "    <tr>\n",
              "      <th>16999</th>\n",
              "      <td>-124.35</td>\n",
              "      <td>40.54</td>\n",
              "      <td>52.0</td>\n",
              "      <td>1820.0</td>\n",
              "      <td>300.0</td>\n",
              "      <td>806.0</td>\n",
              "      <td>270.0</td>\n",
              "      <td>3.0147</td>\n",
              "      <td>94600.0</td>\n",
              "    </tr>\n",
              "  </tbody>\n",
              "</table>\n",
              "</div>"
            ],
            "text/plain": [
              "       longitude  latitude  ...  median_income  median_house_value\n",
              "16995    -124.26     40.58  ...         2.3571            111400.0\n",
              "16996    -124.27     40.69  ...         2.5179             79000.0\n",
              "16997    -124.30     41.84  ...         3.0313            103600.0\n",
              "16998    -124.30     41.80  ...         1.9797             85800.0\n",
              "16999    -124.35     40.54  ...         3.0147             94600.0\n",
              "\n",
              "[5 rows x 9 columns]"
            ]
          },
          "metadata": {
            "tags": []
          }
        }
      ]
    },
    {
      "cell_type": "code",
      "metadata": {
        "colab": {
          "base_uri": "https://localhost:8080/",
          "height": 408
        },
        "id": "ohO9Xd1xLC59",
        "outputId": "d866ab62-b9e9-40f9-e38e-89f9ff1356f9"
      },
      "source": [
        "# Spaltennamen\n",
        "print(\"Spalten:\", df.columns)\n",
        "\n",
        "# Index\n",
        "print(\"Index:\", df.index)\n",
        "\n",
        "# Statistischer Überblick\n",
        "print(\"Überblick:\")\n",
        "display(df.describe())\n"
      ],
      "execution_count": null,
      "outputs": [
        {
          "output_type": "stream",
          "text": [
            "Spalten: Index(['longitude', 'latitude', 'housing_median_age', 'total_rooms',\n",
            "       'total_bedrooms', 'population', 'households', 'median_income',\n",
            "       'median_house_value'],\n",
            "      dtype='object')\n",
            "Index: RangeIndex(start=0, stop=17000, step=1)\n",
            "Überblick:\n"
          ],
          "name": "stdout"
        },
        {
          "output_type": "display_data",
          "data": {
            "text/html": [
              "<div>\n",
              "<style scoped>\n",
              "    .dataframe tbody tr th:only-of-type {\n",
              "        vertical-align: middle;\n",
              "    }\n",
              "\n",
              "    .dataframe tbody tr th {\n",
              "        vertical-align: top;\n",
              "    }\n",
              "\n",
              "    .dataframe thead th {\n",
              "        text-align: right;\n",
              "    }\n",
              "</style>\n",
              "<table border=\"1\" class=\"dataframe\">\n",
              "  <thead>\n",
              "    <tr style=\"text-align: right;\">\n",
              "      <th></th>\n",
              "      <th>longitude</th>\n",
              "      <th>latitude</th>\n",
              "      <th>housing_median_age</th>\n",
              "      <th>total_rooms</th>\n",
              "      <th>total_bedrooms</th>\n",
              "      <th>population</th>\n",
              "      <th>households</th>\n",
              "      <th>median_income</th>\n",
              "      <th>median_house_value</th>\n",
              "    </tr>\n",
              "  </thead>\n",
              "  <tbody>\n",
              "    <tr>\n",
              "      <th>count</th>\n",
              "      <td>17000.000000</td>\n",
              "      <td>17000.000000</td>\n",
              "      <td>17000.000000</td>\n",
              "      <td>17000.000000</td>\n",
              "      <td>17000.000000</td>\n",
              "      <td>17000.000000</td>\n",
              "      <td>17000.000000</td>\n",
              "      <td>17000.000000</td>\n",
              "      <td>17000.000000</td>\n",
              "    </tr>\n",
              "    <tr>\n",
              "      <th>mean</th>\n",
              "      <td>-119.562108</td>\n",
              "      <td>35.625225</td>\n",
              "      <td>28.589353</td>\n",
              "      <td>2643.664412</td>\n",
              "      <td>539.410824</td>\n",
              "      <td>1429.573941</td>\n",
              "      <td>501.221941</td>\n",
              "      <td>3.883578</td>\n",
              "      <td>207300.912353</td>\n",
              "    </tr>\n",
              "    <tr>\n",
              "      <th>std</th>\n",
              "      <td>2.005166</td>\n",
              "      <td>2.137340</td>\n",
              "      <td>12.586937</td>\n",
              "      <td>2179.947071</td>\n",
              "      <td>421.499452</td>\n",
              "      <td>1147.852959</td>\n",
              "      <td>384.520841</td>\n",
              "      <td>1.908157</td>\n",
              "      <td>115983.764387</td>\n",
              "    </tr>\n",
              "    <tr>\n",
              "      <th>min</th>\n",
              "      <td>-124.350000</td>\n",
              "      <td>32.540000</td>\n",
              "      <td>1.000000</td>\n",
              "      <td>2.000000</td>\n",
              "      <td>1.000000</td>\n",
              "      <td>3.000000</td>\n",
              "      <td>1.000000</td>\n",
              "      <td>0.499900</td>\n",
              "      <td>14999.000000</td>\n",
              "    </tr>\n",
              "    <tr>\n",
              "      <th>25%</th>\n",
              "      <td>-121.790000</td>\n",
              "      <td>33.930000</td>\n",
              "      <td>18.000000</td>\n",
              "      <td>1462.000000</td>\n",
              "      <td>297.000000</td>\n",
              "      <td>790.000000</td>\n",
              "      <td>282.000000</td>\n",
              "      <td>2.566375</td>\n",
              "      <td>119400.000000</td>\n",
              "    </tr>\n",
              "    <tr>\n",
              "      <th>50%</th>\n",
              "      <td>-118.490000</td>\n",
              "      <td>34.250000</td>\n",
              "      <td>29.000000</td>\n",
              "      <td>2127.000000</td>\n",
              "      <td>434.000000</td>\n",
              "      <td>1167.000000</td>\n",
              "      <td>409.000000</td>\n",
              "      <td>3.544600</td>\n",
              "      <td>180400.000000</td>\n",
              "    </tr>\n",
              "    <tr>\n",
              "      <th>75%</th>\n",
              "      <td>-118.000000</td>\n",
              "      <td>37.720000</td>\n",
              "      <td>37.000000</td>\n",
              "      <td>3151.250000</td>\n",
              "      <td>648.250000</td>\n",
              "      <td>1721.000000</td>\n",
              "      <td>605.250000</td>\n",
              "      <td>4.767000</td>\n",
              "      <td>265000.000000</td>\n",
              "    </tr>\n",
              "    <tr>\n",
              "      <th>max</th>\n",
              "      <td>-114.310000</td>\n",
              "      <td>41.950000</td>\n",
              "      <td>52.000000</td>\n",
              "      <td>37937.000000</td>\n",
              "      <td>6445.000000</td>\n",
              "      <td>35682.000000</td>\n",
              "      <td>6082.000000</td>\n",
              "      <td>15.000100</td>\n",
              "      <td>500001.000000</td>\n",
              "    </tr>\n",
              "  </tbody>\n",
              "</table>\n",
              "</div>"
            ],
            "text/plain": [
              "          longitude      latitude  ...  median_income  median_house_value\n",
              "count  17000.000000  17000.000000  ...   17000.000000        17000.000000\n",
              "mean    -119.562108     35.625225  ...       3.883578       207300.912353\n",
              "std        2.005166      2.137340  ...       1.908157       115983.764387\n",
              "min     -124.350000     32.540000  ...       0.499900        14999.000000\n",
              "25%     -121.790000     33.930000  ...       2.566375       119400.000000\n",
              "50%     -118.490000     34.250000  ...       3.544600       180400.000000\n",
              "75%     -118.000000     37.720000  ...       4.767000       265000.000000\n",
              "max     -114.310000     41.950000  ...      15.000100       500001.000000\n",
              "\n",
              "[8 rows x 9 columns]"
            ]
          },
          "metadata": {
            "tags": []
          }
        }
      ]
    },
    {
      "cell_type": "code",
      "metadata": {
        "colab": {
          "base_uri": "https://localhost:8080/"
        },
        "id": "pbVOhA7YXXGK",
        "outputId": "10289715-323c-45e4-c51d-9b285a975ee8"
      },
      "source": [
        "# Bestimmte Info über eine Spalte\n",
        "print(\"Max. Population:\", df[\"population\"].max())\n",
        "print(\"Standardabweichung:\", df[\"population\"].std())"
      ],
      "execution_count": null,
      "outputs": [
        {
          "output_type": "stream",
          "text": [
            "Max. Population: 35682.0\n",
            "Standardabweichung: 1147.852959159525\n"
          ],
          "name": "stdout"
        }
      ]
    },
    {
      "cell_type": "code",
      "metadata": {
        "colab": {
          "base_uri": "https://localhost:8080/",
          "height": 175
        },
        "id": "vXNxC610ElmH",
        "outputId": "44756676-25c4-48fa-f818-7f8797a227f5"
      },
      "source": [
        "# Dataframe selber mittels Dictionary erstellen\n",
        "df_people = pd.DataFrame({\n",
        "    \"Person\": [\"Lisa\", \"Max\", \"Karim\", \"Marie\"],\n",
        "    \"Einkommen\": [3000, 2300, 2600, 1900],\n",
        "    \"Beruf\": [\"Data Scientist\", \"\", \"Mechatroniker\", \"Hiwi\"],\n",
        "    \"Mietausgaben\": [950.50, 410.00, 620.00, 590.80],\n",
        "    })\n",
        "\n",
        "display(df_people.head())"
      ],
      "execution_count": null,
      "outputs": [
        {
          "output_type": "display_data",
          "data": {
            "text/html": [
              "<div>\n",
              "<style scoped>\n",
              "    .dataframe tbody tr th:only-of-type {\n",
              "        vertical-align: middle;\n",
              "    }\n",
              "\n",
              "    .dataframe tbody tr th {\n",
              "        vertical-align: top;\n",
              "    }\n",
              "\n",
              "    .dataframe thead th {\n",
              "        text-align: right;\n",
              "    }\n",
              "</style>\n",
              "<table border=\"1\" class=\"dataframe\">\n",
              "  <thead>\n",
              "    <tr style=\"text-align: right;\">\n",
              "      <th></th>\n",
              "      <th>Person</th>\n",
              "      <th>Einkommen</th>\n",
              "      <th>Beruf</th>\n",
              "      <th>Mietausgaben</th>\n",
              "    </tr>\n",
              "  </thead>\n",
              "  <tbody>\n",
              "    <tr>\n",
              "      <th>0</th>\n",
              "      <td>Lisa</td>\n",
              "      <td>3000</td>\n",
              "      <td>Data Scientist</td>\n",
              "      <td>950.5</td>\n",
              "    </tr>\n",
              "    <tr>\n",
              "      <th>1</th>\n",
              "      <td>Max</td>\n",
              "      <td>2300</td>\n",
              "      <td></td>\n",
              "      <td>410.0</td>\n",
              "    </tr>\n",
              "    <tr>\n",
              "      <th>2</th>\n",
              "      <td>Karim</td>\n",
              "      <td>2600</td>\n",
              "      <td>Mechatroniker</td>\n",
              "      <td>620.0</td>\n",
              "    </tr>\n",
              "    <tr>\n",
              "      <th>3</th>\n",
              "      <td>Marie</td>\n",
              "      <td>1900</td>\n",
              "      <td>Hiwi</td>\n",
              "      <td>590.8</td>\n",
              "    </tr>\n",
              "  </tbody>\n",
              "</table>\n",
              "</div>"
            ],
            "text/plain": [
              "  Person  Einkommen           Beruf  Mietausgaben\n",
              "0   Lisa       3000  Data Scientist         950.5\n",
              "1    Max       2300                         410.0\n",
              "2  Karim       2600   Mechatroniker         620.0\n",
              "3  Marie       1900            Hiwi         590.8"
            ]
          },
          "metadata": {
            "tags": []
          }
        }
      ]
    },
    {
      "cell_type": "code",
      "metadata": {
        "colab": {
          "base_uri": "https://localhost:8080/"
        },
        "id": "Ii390SD9Jmpy",
        "outputId": "9bacbe05-b24e-427a-f407-e64a753dd95a"
      },
      "source": [
        "# Datentypen der Elemente der Spalten\n",
        "# Spalten selbst haben den Datentyp Series\n",
        "print(df_people.dtypes)\n",
        "\n",
        "# Datentyp der Elemente der Spalte Einkommen\n",
        "print(\"Datentyp der Einkommensspalte: \", df_people[\"Einkommen\"].dtype)\n"
      ],
      "execution_count": null,
      "outputs": [
        {
          "output_type": "stream",
          "text": [
            "Person           object\n",
            "Einkommen         int64\n",
            "Beruf            object\n",
            "Mietausgaben    float64\n",
            "dtype: object\n",
            "Datentyp der Einkommensspalte:  int64\n"
          ],
          "name": "stdout"
        }
      ]
    },
    {
      "cell_type": "markdown",
      "metadata": {
        "id": "0INY_D5pUPJ0"
      },
      "source": [
        "**Spalten oder Zeilen adressieren**"
      ]
    },
    {
      "cell_type": "code",
      "metadata": {
        "colab": {
          "base_uri": "https://localhost:8080/",
          "height": 302
        },
        "id": "1dHz23SbFk3H",
        "outputId": "1ce7fa08-fcb6-4a08-bd12-0349bf388ad0"
      },
      "source": [
        "# Einzelne Spalte aussuchen, eine eckige Klammer --> Series\n",
        "display(df_people[\"Person\"])\n",
        "print(type(df_people[\"Person\"]))\n",
        "\n",
        "# Zwei eckige Klammern (Liste von Spalten) --> DataFrame\n",
        "display(df_people[[\"Person\"]])\n",
        "print(type(df_people[[\"Person\"]]))\n"
      ],
      "execution_count": null,
      "outputs": [
        {
          "output_type": "display_data",
          "data": {
            "text/plain": [
              "0     Lisa\n",
              "1      Max\n",
              "2    Karim\n",
              "3    Marie\n",
              "Name: Person, dtype: object"
            ]
          },
          "metadata": {
            "tags": []
          }
        },
        {
          "output_type": "stream",
          "text": [
            "<class 'pandas.core.series.Series'>\n"
          ],
          "name": "stdout"
        },
        {
          "output_type": "display_data",
          "data": {
            "text/html": [
              "<div>\n",
              "<style scoped>\n",
              "    .dataframe tbody tr th:only-of-type {\n",
              "        vertical-align: middle;\n",
              "    }\n",
              "\n",
              "    .dataframe tbody tr th {\n",
              "        vertical-align: top;\n",
              "    }\n",
              "\n",
              "    .dataframe thead th {\n",
              "        text-align: right;\n",
              "    }\n",
              "</style>\n",
              "<table border=\"1\" class=\"dataframe\">\n",
              "  <thead>\n",
              "    <tr style=\"text-align: right;\">\n",
              "      <th></th>\n",
              "      <th>Person</th>\n",
              "    </tr>\n",
              "  </thead>\n",
              "  <tbody>\n",
              "    <tr>\n",
              "      <th>0</th>\n",
              "      <td>Lisa</td>\n",
              "    </tr>\n",
              "    <tr>\n",
              "      <th>1</th>\n",
              "      <td>Max</td>\n",
              "    </tr>\n",
              "    <tr>\n",
              "      <th>2</th>\n",
              "      <td>Karim</td>\n",
              "    </tr>\n",
              "    <tr>\n",
              "      <th>3</th>\n",
              "      <td>Marie</td>\n",
              "    </tr>\n",
              "  </tbody>\n",
              "</table>\n",
              "</div>"
            ],
            "text/plain": [
              "  Person\n",
              "0   Lisa\n",
              "1    Max\n",
              "2  Karim\n",
              "3  Marie"
            ]
          },
          "metadata": {
            "tags": []
          }
        },
        {
          "output_type": "stream",
          "text": [
            "<class 'pandas.core.frame.DataFrame'>\n"
          ],
          "name": "stdout"
        }
      ]
    },
    {
      "cell_type": "code",
      "metadata": {
        "colab": {
          "base_uri": "https://localhost:8080/",
          "height": 193
        },
        "id": "EwcVWaykGr8x",
        "outputId": "a85975a7-364c-47d2-9a1b-d040cb147960"
      },
      "source": [
        "# DataFrames erlauben das Auswählen mehrerer Spalten (Liste von Spalten)\n",
        "display(df_people[[\"Person\", \"Beruf\"]])\n",
        "print(type(df_people[[\"Person\", \"Beruf\"]]))"
      ],
      "execution_count": null,
      "outputs": [
        {
          "output_type": "display_data",
          "data": {
            "text/html": [
              "<div>\n",
              "<style scoped>\n",
              "    .dataframe tbody tr th:only-of-type {\n",
              "        vertical-align: middle;\n",
              "    }\n",
              "\n",
              "    .dataframe tbody tr th {\n",
              "        vertical-align: top;\n",
              "    }\n",
              "\n",
              "    .dataframe thead th {\n",
              "        text-align: right;\n",
              "    }\n",
              "</style>\n",
              "<table border=\"1\" class=\"dataframe\">\n",
              "  <thead>\n",
              "    <tr style=\"text-align: right;\">\n",
              "      <th></th>\n",
              "      <th>Person</th>\n",
              "      <th>Beruf</th>\n",
              "    </tr>\n",
              "  </thead>\n",
              "  <tbody>\n",
              "    <tr>\n",
              "      <th>0</th>\n",
              "      <td>Lisa</td>\n",
              "      <td>Data Scientist</td>\n",
              "    </tr>\n",
              "    <tr>\n",
              "      <th>1</th>\n",
              "      <td>Max</td>\n",
              "      <td></td>\n",
              "    </tr>\n",
              "    <tr>\n",
              "      <th>2</th>\n",
              "      <td>Karim</td>\n",
              "      <td>Mechatroniker</td>\n",
              "    </tr>\n",
              "    <tr>\n",
              "      <th>3</th>\n",
              "      <td>Marie</td>\n",
              "      <td>Hiwi</td>\n",
              "    </tr>\n",
              "  </tbody>\n",
              "</table>\n",
              "</div>"
            ],
            "text/plain": [
              "  Person           Beruf\n",
              "0   Lisa  Data Scientist\n",
              "1    Max                \n",
              "2  Karim   Mechatroniker\n",
              "3  Marie            Hiwi"
            ]
          },
          "metadata": {
            "tags": []
          }
        },
        {
          "output_type": "stream",
          "text": [
            "<class 'pandas.core.frame.DataFrame'>\n"
          ],
          "name": "stdout"
        }
      ]
    },
    {
      "cell_type": "code",
      "metadata": {
        "colab": {
          "base_uri": "https://localhost:8080/",
          "height": 130
        },
        "id": "jzfhJq4JUzYi",
        "outputId": "c5696adb-2493-43a8-b26e-17fe0f881435"
      },
      "source": [
        "# Aussuchen von Zeilen mittels Slicing (eine eckige Klammer)\n",
        "display(df_people[1:3])\n",
        "print(type(df_people[1:3]))"
      ],
      "execution_count": null,
      "outputs": [
        {
          "output_type": "display_data",
          "data": {
            "text/html": [
              "<div>\n",
              "<style scoped>\n",
              "    .dataframe tbody tr th:only-of-type {\n",
              "        vertical-align: middle;\n",
              "    }\n",
              "\n",
              "    .dataframe tbody tr th {\n",
              "        vertical-align: top;\n",
              "    }\n",
              "\n",
              "    .dataframe thead th {\n",
              "        text-align: right;\n",
              "    }\n",
              "</style>\n",
              "<table border=\"1\" class=\"dataframe\">\n",
              "  <thead>\n",
              "    <tr style=\"text-align: right;\">\n",
              "      <th></th>\n",
              "      <th>Person</th>\n",
              "      <th>Einkommen</th>\n",
              "      <th>Beruf</th>\n",
              "      <th>Mietausgaben</th>\n",
              "    </tr>\n",
              "  </thead>\n",
              "  <tbody>\n",
              "    <tr>\n",
              "      <th>1</th>\n",
              "      <td>Max</td>\n",
              "      <td>2300</td>\n",
              "      <td></td>\n",
              "      <td>410.0</td>\n",
              "    </tr>\n",
              "    <tr>\n",
              "      <th>2</th>\n",
              "      <td>Karim</td>\n",
              "      <td>2600</td>\n",
              "      <td>Mechatroniker</td>\n",
              "      <td>620.0</td>\n",
              "    </tr>\n",
              "  </tbody>\n",
              "</table>\n",
              "</div>"
            ],
            "text/plain": [
              "  Person  Einkommen          Beruf  Mietausgaben\n",
              "1    Max       2300                        410.0\n",
              "2  Karim       2600  Mechatroniker         620.0"
            ]
          },
          "metadata": {
            "tags": []
          }
        },
        {
          "output_type": "stream",
          "text": [
            "<class 'pandas.core.frame.DataFrame'>\n"
          ],
          "name": "stdout"
        }
      ]
    },
    {
      "cell_type": "markdown",
      "metadata": {
        "id": "qDcD8L_Hhhg0"
      },
      "source": [
        "https://pandas.pydata.org/pandas-docs/stable/reference/api/pandas.Series.str.contains.html"
      ]
    },
    {
      "cell_type": "code",
      "metadata": {
        "colab": {
          "base_uri": "https://localhost:8080/",
          "height": 301
        },
        "id": "dtrgQOPnY3on",
        "outputId": "f678ed3e-4365-4f36-ac76-bc8ab55e88d1"
      },
      "source": [
        "# Aussuchen von Zeilen mittels Filter-Ausdruck\n",
        "display(df_people[df_people[\"Einkommen\"] > 2000])\n",
        "\n",
        "# Filter-Ausdruck mit String\n",
        "display(df_people[df_people[\"Person\"] == \"Lisa\"])\n",
        "\n",
        "# Filter-Ausdruck mit String\n",
        "display(df_people[df_people[\"Person\"].str.contains(\"ar\")])"
      ],
      "execution_count": null,
      "outputs": [
        {
          "output_type": "display_data",
          "data": {
            "text/html": [
              "<div>\n",
              "<style scoped>\n",
              "    .dataframe tbody tr th:only-of-type {\n",
              "        vertical-align: middle;\n",
              "    }\n",
              "\n",
              "    .dataframe tbody tr th {\n",
              "        vertical-align: top;\n",
              "    }\n",
              "\n",
              "    .dataframe thead th {\n",
              "        text-align: right;\n",
              "    }\n",
              "</style>\n",
              "<table border=\"1\" class=\"dataframe\">\n",
              "  <thead>\n",
              "    <tr style=\"text-align: right;\">\n",
              "      <th></th>\n",
              "      <th>Person</th>\n",
              "      <th>Einkommen</th>\n",
              "      <th>Beruf</th>\n",
              "      <th>Mietausgaben</th>\n",
              "    </tr>\n",
              "  </thead>\n",
              "  <tbody>\n",
              "    <tr>\n",
              "      <th>0</th>\n",
              "      <td>Lisa</td>\n",
              "      <td>3000</td>\n",
              "      <td>Data Scientist</td>\n",
              "      <td>950.5</td>\n",
              "    </tr>\n",
              "    <tr>\n",
              "      <th>1</th>\n",
              "      <td>Max</td>\n",
              "      <td>2300</td>\n",
              "      <td></td>\n",
              "      <td>410.0</td>\n",
              "    </tr>\n",
              "    <tr>\n",
              "      <th>2</th>\n",
              "      <td>Karim</td>\n",
              "      <td>2600</td>\n",
              "      <td>Mechatroniker</td>\n",
              "      <td>620.0</td>\n",
              "    </tr>\n",
              "  </tbody>\n",
              "</table>\n",
              "</div>"
            ],
            "text/plain": [
              "  Person  Einkommen           Beruf  Mietausgaben\n",
              "0   Lisa       3000  Data Scientist         950.5\n",
              "1    Max       2300                         410.0\n",
              "2  Karim       2600   Mechatroniker         620.0"
            ]
          },
          "metadata": {
            "tags": []
          }
        },
        {
          "output_type": "display_data",
          "data": {
            "text/html": [
              "<div>\n",
              "<style scoped>\n",
              "    .dataframe tbody tr th:only-of-type {\n",
              "        vertical-align: middle;\n",
              "    }\n",
              "\n",
              "    .dataframe tbody tr th {\n",
              "        vertical-align: top;\n",
              "    }\n",
              "\n",
              "    .dataframe thead th {\n",
              "        text-align: right;\n",
              "    }\n",
              "</style>\n",
              "<table border=\"1\" class=\"dataframe\">\n",
              "  <thead>\n",
              "    <tr style=\"text-align: right;\">\n",
              "      <th></th>\n",
              "      <th>Person</th>\n",
              "      <th>Einkommen</th>\n",
              "      <th>Beruf</th>\n",
              "      <th>Mietausgaben</th>\n",
              "    </tr>\n",
              "  </thead>\n",
              "  <tbody>\n",
              "    <tr>\n",
              "      <th>0</th>\n",
              "      <td>Lisa</td>\n",
              "      <td>3000</td>\n",
              "      <td>Data Scientist</td>\n",
              "      <td>950.5</td>\n",
              "    </tr>\n",
              "  </tbody>\n",
              "</table>\n",
              "</div>"
            ],
            "text/plain": [
              "  Person  Einkommen           Beruf  Mietausgaben\n",
              "0   Lisa       3000  Data Scientist         950.5"
            ]
          },
          "metadata": {
            "tags": []
          }
        },
        {
          "output_type": "display_data",
          "data": {
            "text/html": [
              "<div>\n",
              "<style scoped>\n",
              "    .dataframe tbody tr th:only-of-type {\n",
              "        vertical-align: middle;\n",
              "    }\n",
              "\n",
              "    .dataframe tbody tr th {\n",
              "        vertical-align: top;\n",
              "    }\n",
              "\n",
              "    .dataframe thead th {\n",
              "        text-align: right;\n",
              "    }\n",
              "</style>\n",
              "<table border=\"1\" class=\"dataframe\">\n",
              "  <thead>\n",
              "    <tr style=\"text-align: right;\">\n",
              "      <th></th>\n",
              "      <th>Person</th>\n",
              "      <th>Einkommen</th>\n",
              "      <th>Beruf</th>\n",
              "      <th>Mietausgaben</th>\n",
              "    </tr>\n",
              "  </thead>\n",
              "  <tbody>\n",
              "    <tr>\n",
              "      <th>2</th>\n",
              "      <td>Karim</td>\n",
              "      <td>2600</td>\n",
              "      <td>Mechatroniker</td>\n",
              "      <td>620.0</td>\n",
              "    </tr>\n",
              "    <tr>\n",
              "      <th>3</th>\n",
              "      <td>Marie</td>\n",
              "      <td>1900</td>\n",
              "      <td>Hiwi</td>\n",
              "      <td>590.8</td>\n",
              "    </tr>\n",
              "  </tbody>\n",
              "</table>\n",
              "</div>"
            ],
            "text/plain": [
              "  Person  Einkommen          Beruf  Mietausgaben\n",
              "2  Karim       2600  Mechatroniker         620.0\n",
              "3  Marie       1900           Hiwi         590.8"
            ]
          },
          "metadata": {
            "tags": []
          }
        }
      ]
    },
    {
      "cell_type": "markdown",
      "metadata": {
        "id": "6uu9juXWXFai"
      },
      "source": [
        "**Spalten und Zeilen gleichzeitig adressieren**"
      ]
    },
    {
      "cell_type": "code",
      "metadata": {
        "colab": {
          "base_uri": "https://localhost:8080/",
          "height": 426
        },
        "id": "nIVmeB1VVBo5",
        "outputId": "5bc69615-e2be-4c19-e356-a98388c0806f"
      },
      "source": [
        "# Aussuchen von Zeilen und Spaltenbereichen mittels\n",
        "# dataframe.loc[zeilenbereich, spaltenbereich]\n",
        "\n",
        "# Zeile 1 bis inklusive 3\n",
        "display(df_people.loc[1:3])\n",
        "\n",
        "# Zeile 1 bis inklusive 3, mit Spalten Einkommen und Mietausgaben\n",
        "display(df_people.loc[1:3, [\"Einkommen\", \"Mietausgaben\"]])\n",
        "\n",
        "# Alle Zeilen, mit Spalten Einkommen und Mietausgaben\n",
        "display(df_people.loc[:, [\"Einkommen\", \"Mietausgaben\"]])"
      ],
      "execution_count": null,
      "outputs": [
        {
          "output_type": "display_data",
          "data": {
            "text/html": [
              "<div>\n",
              "<style scoped>\n",
              "    .dataframe tbody tr th:only-of-type {\n",
              "        vertical-align: middle;\n",
              "    }\n",
              "\n",
              "    .dataframe tbody tr th {\n",
              "        vertical-align: top;\n",
              "    }\n",
              "\n",
              "    .dataframe thead th {\n",
              "        text-align: right;\n",
              "    }\n",
              "</style>\n",
              "<table border=\"1\" class=\"dataframe\">\n",
              "  <thead>\n",
              "    <tr style=\"text-align: right;\">\n",
              "      <th></th>\n",
              "      <th>Person</th>\n",
              "      <th>Einkommen</th>\n",
              "      <th>Beruf</th>\n",
              "      <th>Mietausgaben</th>\n",
              "    </tr>\n",
              "  </thead>\n",
              "  <tbody>\n",
              "    <tr>\n",
              "      <th>1</th>\n",
              "      <td>Max</td>\n",
              "      <td>2300</td>\n",
              "      <td></td>\n",
              "      <td>410.0</td>\n",
              "    </tr>\n",
              "    <tr>\n",
              "      <th>2</th>\n",
              "      <td>Karim</td>\n",
              "      <td>2600</td>\n",
              "      <td>Mechatroniker</td>\n",
              "      <td>620.0</td>\n",
              "    </tr>\n",
              "    <tr>\n",
              "      <th>3</th>\n",
              "      <td>Marie</td>\n",
              "      <td>1900</td>\n",
              "      <td>Hiwi</td>\n",
              "      <td>590.8</td>\n",
              "    </tr>\n",
              "  </tbody>\n",
              "</table>\n",
              "</div>"
            ],
            "text/plain": [
              "  Person  Einkommen          Beruf  Mietausgaben\n",
              "1    Max       2300                        410.0\n",
              "2  Karim       2600  Mechatroniker         620.0\n",
              "3  Marie       1900           Hiwi         590.8"
            ]
          },
          "metadata": {
            "tags": []
          }
        },
        {
          "output_type": "display_data",
          "data": {
            "text/html": [
              "<div>\n",
              "<style scoped>\n",
              "    .dataframe tbody tr th:only-of-type {\n",
              "        vertical-align: middle;\n",
              "    }\n",
              "\n",
              "    .dataframe tbody tr th {\n",
              "        vertical-align: top;\n",
              "    }\n",
              "\n",
              "    .dataframe thead th {\n",
              "        text-align: right;\n",
              "    }\n",
              "</style>\n",
              "<table border=\"1\" class=\"dataframe\">\n",
              "  <thead>\n",
              "    <tr style=\"text-align: right;\">\n",
              "      <th></th>\n",
              "      <th>Einkommen</th>\n",
              "      <th>Mietausgaben</th>\n",
              "    </tr>\n",
              "  </thead>\n",
              "  <tbody>\n",
              "    <tr>\n",
              "      <th>1</th>\n",
              "      <td>2300</td>\n",
              "      <td>410.0</td>\n",
              "    </tr>\n",
              "    <tr>\n",
              "      <th>2</th>\n",
              "      <td>2600</td>\n",
              "      <td>620.0</td>\n",
              "    </tr>\n",
              "    <tr>\n",
              "      <th>3</th>\n",
              "      <td>1900</td>\n",
              "      <td>590.8</td>\n",
              "    </tr>\n",
              "  </tbody>\n",
              "</table>\n",
              "</div>"
            ],
            "text/plain": [
              "   Einkommen  Mietausgaben\n",
              "1       2300         410.0\n",
              "2       2600         620.0\n",
              "3       1900         590.8"
            ]
          },
          "metadata": {
            "tags": []
          }
        },
        {
          "output_type": "display_data",
          "data": {
            "text/html": [
              "<div>\n",
              "<style scoped>\n",
              "    .dataframe tbody tr th:only-of-type {\n",
              "        vertical-align: middle;\n",
              "    }\n",
              "\n",
              "    .dataframe tbody tr th {\n",
              "        vertical-align: top;\n",
              "    }\n",
              "\n",
              "    .dataframe thead th {\n",
              "        text-align: right;\n",
              "    }\n",
              "</style>\n",
              "<table border=\"1\" class=\"dataframe\">\n",
              "  <thead>\n",
              "    <tr style=\"text-align: right;\">\n",
              "      <th></th>\n",
              "      <th>Einkommen</th>\n",
              "      <th>Mietausgaben</th>\n",
              "    </tr>\n",
              "  </thead>\n",
              "  <tbody>\n",
              "    <tr>\n",
              "      <th>0</th>\n",
              "      <td>3000</td>\n",
              "      <td>950.5</td>\n",
              "    </tr>\n",
              "    <tr>\n",
              "      <th>1</th>\n",
              "      <td>2300</td>\n",
              "      <td>410.0</td>\n",
              "    </tr>\n",
              "    <tr>\n",
              "      <th>2</th>\n",
              "      <td>2600</td>\n",
              "      <td>620.0</td>\n",
              "    </tr>\n",
              "    <tr>\n",
              "      <th>3</th>\n",
              "      <td>1900</td>\n",
              "      <td>590.8</td>\n",
              "    </tr>\n",
              "  </tbody>\n",
              "</table>\n",
              "</div>"
            ],
            "text/plain": [
              "   Einkommen  Mietausgaben\n",
              "0       3000         950.5\n",
              "1       2300         410.0\n",
              "2       2600         620.0\n",
              "3       1900         590.8"
            ]
          },
          "metadata": {
            "tags": []
          }
        }
      ]
    },
    {
      "cell_type": "code",
      "metadata": {
        "colab": {
          "base_uri": "https://localhost:8080/",
          "height": 215
        },
        "id": "39dOdEH4jF79",
        "outputId": "e615760c-5f95-458b-983b-4a512fcaf31b"
      },
      "source": [
        "# Filterausdruck für Zeile, Liste von Spaltennamen --> DataFrame\n",
        "display(df_people.loc[df_people[\"Einkommen\"] > 2000, [\"Einkommen\"]])\n",
        "\n",
        "# Filterausdruck mit mehreren Bedingungen für Zeile, Liste von Spaltennamen --> Series\n",
        "# display(df_people.loc[(df_people[\"Einkommen\"] > 2000) & (df_people[\"Einkommen\"] < 3000), [\"Einkommen\"]])\n",
        "\n",
        "# Filterausdruck für Zeile, Spaltennamen --> Series\n",
        "display(df_people.loc[df_people[\"Einkommen\"] > 2000, \"Einkommen\"])"
      ],
      "execution_count": null,
      "outputs": [
        {
          "output_type": "display_data",
          "data": {
            "text/html": [
              "<div>\n",
              "<style scoped>\n",
              "    .dataframe tbody tr th:only-of-type {\n",
              "        vertical-align: middle;\n",
              "    }\n",
              "\n",
              "    .dataframe tbody tr th {\n",
              "        vertical-align: top;\n",
              "    }\n",
              "\n",
              "    .dataframe thead th {\n",
              "        text-align: right;\n",
              "    }\n",
              "</style>\n",
              "<table border=\"1\" class=\"dataframe\">\n",
              "  <thead>\n",
              "    <tr style=\"text-align: right;\">\n",
              "      <th></th>\n",
              "      <th>Einkommen</th>\n",
              "    </tr>\n",
              "  </thead>\n",
              "  <tbody>\n",
              "    <tr>\n",
              "      <th>0</th>\n",
              "      <td>3000</td>\n",
              "    </tr>\n",
              "    <tr>\n",
              "      <th>1</th>\n",
              "      <td>2300</td>\n",
              "    </tr>\n",
              "    <tr>\n",
              "      <th>2</th>\n",
              "      <td>2600</td>\n",
              "    </tr>\n",
              "  </tbody>\n",
              "</table>\n",
              "</div>"
            ],
            "text/plain": [
              "   Einkommen\n",
              "0       3000\n",
              "1       2300\n",
              "2       2600"
            ]
          },
          "metadata": {
            "tags": []
          }
        },
        {
          "output_type": "display_data",
          "data": {
            "text/plain": [
              "0    3000\n",
              "1    2300\n",
              "2    2600\n",
              "Name: Einkommen, dtype: int64"
            ]
          },
          "metadata": {
            "tags": []
          }
        }
      ]
    },
    {
      "cell_type": "code",
      "metadata": {
        "colab": {
          "base_uri": "https://localhost:8080/",
          "height": 112
        },
        "id": "c4z0xutHoEJS",
        "outputId": "21d731ea-1a87-4bdb-b9d6-d11336389405"
      },
      "source": [
        "# Mit iloc nur via Slices oder Indizes oder Listen von Indizes auswählen\n",
        "# Im Gegensatz zu loc ist hier Slice exklusive Ende\n",
        "\n",
        "# Zeilenslice, Spaltenslice\n",
        "display(df_people.iloc[0:2, 0:3])\n"
      ],
      "execution_count": null,
      "outputs": [
        {
          "output_type": "display_data",
          "data": {
            "text/html": [
              "<div>\n",
              "<style scoped>\n",
              "    .dataframe tbody tr th:only-of-type {\n",
              "        vertical-align: middle;\n",
              "    }\n",
              "\n",
              "    .dataframe tbody tr th {\n",
              "        vertical-align: top;\n",
              "    }\n",
              "\n",
              "    .dataframe thead th {\n",
              "        text-align: right;\n",
              "    }\n",
              "</style>\n",
              "<table border=\"1\" class=\"dataframe\">\n",
              "  <thead>\n",
              "    <tr style=\"text-align: right;\">\n",
              "      <th></th>\n",
              "      <th>Person</th>\n",
              "      <th>Einkommen</th>\n",
              "      <th>Beruf</th>\n",
              "    </tr>\n",
              "  </thead>\n",
              "  <tbody>\n",
              "    <tr>\n",
              "      <th>0</th>\n",
              "      <td>Lisa</td>\n",
              "      <td>3000</td>\n",
              "      <td>Data Scientist</td>\n",
              "    </tr>\n",
              "    <tr>\n",
              "      <th>1</th>\n",
              "      <td>Max</td>\n",
              "      <td>2300</td>\n",
              "      <td></td>\n",
              "    </tr>\n",
              "  </tbody>\n",
              "</table>\n",
              "</div>"
            ],
            "text/plain": [
              "  Person  Einkommen           Beruf\n",
              "0   Lisa       3000  Data Scientist\n",
              "1    Max       2300                "
            ]
          },
          "metadata": {
            "tags": []
          }
        }
      ]
    },
    {
      "cell_type": "code",
      "metadata": {
        "colab": {
          "base_uri": "https://localhost:8080/",
          "height": 112
        },
        "id": "vUnnE9pgpSnM",
        "outputId": "3ae690ba-f731-4e7b-d7c9-6d7ff5e63b67"
      },
      "source": [
        "# [Liste von Zeilen], Spaltenslice\n",
        "display(df_people.iloc[[1, 3], 0:3])"
      ],
      "execution_count": null,
      "outputs": [
        {
          "output_type": "display_data",
          "data": {
            "text/html": [
              "<div>\n",
              "<style scoped>\n",
              "    .dataframe tbody tr th:only-of-type {\n",
              "        vertical-align: middle;\n",
              "    }\n",
              "\n",
              "    .dataframe tbody tr th {\n",
              "        vertical-align: top;\n",
              "    }\n",
              "\n",
              "    .dataframe thead th {\n",
              "        text-align: right;\n",
              "    }\n",
              "</style>\n",
              "<table border=\"1\" class=\"dataframe\">\n",
              "  <thead>\n",
              "    <tr style=\"text-align: right;\">\n",
              "      <th></th>\n",
              "      <th>Person</th>\n",
              "      <th>Einkommen</th>\n",
              "      <th>Beruf</th>\n",
              "    </tr>\n",
              "  </thead>\n",
              "  <tbody>\n",
              "    <tr>\n",
              "      <th>1</th>\n",
              "      <td>Max</td>\n",
              "      <td>2300</td>\n",
              "      <td></td>\n",
              "    </tr>\n",
              "    <tr>\n",
              "      <th>3</th>\n",
              "      <td>Marie</td>\n",
              "      <td>1900</td>\n",
              "      <td>Hiwi</td>\n",
              "    </tr>\n",
              "  </tbody>\n",
              "</table>\n",
              "</div>"
            ],
            "text/plain": [
              "  Person  Einkommen Beruf\n",
              "1    Max       2300      \n",
              "3  Marie       1900  Hiwi"
            ]
          },
          "metadata": {
            "tags": []
          }
        }
      ]
    },
    {
      "cell_type": "markdown",
      "metadata": {
        "id": "WJKCV7uryODt"
      },
      "source": [
        "**Werte ändern**"
      ]
    },
    {
      "cell_type": "code",
      "metadata": {
        "colab": {
          "base_uri": "https://localhost:8080/",
          "height": 193
        },
        "id": "Tv6lext4ovzl",
        "outputId": "abba1852-f267-42e4-ccb6-13f8512a052b"
      },
      "source": [
        "# Zelle ansprechen\n",
        "display(df_people.iloc[1, 1])\n",
        "\n",
        "# Wert der Zelle ändern\n",
        "df_people.iloc[1, 1] = 1800\n",
        "\n",
        "# Wert mehrerer Zellen ändern (funktioniert auch mit loc)\n",
        "df_people.iloc[0:2, 3] = 500\n",
        "\n",
        "display(df_people)\n"
      ],
      "execution_count": null,
      "outputs": [
        {
          "output_type": "display_data",
          "data": {
            "text/plain": [
              "2300"
            ]
          },
          "metadata": {
            "tags": []
          }
        },
        {
          "output_type": "display_data",
          "data": {
            "text/html": [
              "<div>\n",
              "<style scoped>\n",
              "    .dataframe tbody tr th:only-of-type {\n",
              "        vertical-align: middle;\n",
              "    }\n",
              "\n",
              "    .dataframe tbody tr th {\n",
              "        vertical-align: top;\n",
              "    }\n",
              "\n",
              "    .dataframe thead th {\n",
              "        text-align: right;\n",
              "    }\n",
              "</style>\n",
              "<table border=\"1\" class=\"dataframe\">\n",
              "  <thead>\n",
              "    <tr style=\"text-align: right;\">\n",
              "      <th></th>\n",
              "      <th>Person</th>\n",
              "      <th>Einkommen</th>\n",
              "      <th>Beruf</th>\n",
              "      <th>Mietausgaben</th>\n",
              "    </tr>\n",
              "  </thead>\n",
              "  <tbody>\n",
              "    <tr>\n",
              "      <th>0</th>\n",
              "      <td>Lisa</td>\n",
              "      <td>3000</td>\n",
              "      <td>Data Scientist</td>\n",
              "      <td>500.0</td>\n",
              "    </tr>\n",
              "    <tr>\n",
              "      <th>1</th>\n",
              "      <td>Max</td>\n",
              "      <td>1800</td>\n",
              "      <td></td>\n",
              "      <td>500.0</td>\n",
              "    </tr>\n",
              "    <tr>\n",
              "      <th>2</th>\n",
              "      <td>Karim</td>\n",
              "      <td>1800</td>\n",
              "      <td>Mechatroniker</td>\n",
              "      <td>620.0</td>\n",
              "    </tr>\n",
              "    <tr>\n",
              "      <th>3</th>\n",
              "      <td>Marie</td>\n",
              "      <td>1900</td>\n",
              "      <td>Hiwi</td>\n",
              "      <td>590.8</td>\n",
              "    </tr>\n",
              "  </tbody>\n",
              "</table>\n",
              "</div>"
            ],
            "text/plain": [
              "  Person  Einkommen           Beruf  Mietausgaben\n",
              "0   Lisa       3000  Data Scientist         500.0\n",
              "1    Max       1800                         500.0\n",
              "2  Karim       1800   Mechatroniker         620.0\n",
              "3  Marie       1900            Hiwi         590.8"
            ]
          },
          "metadata": {
            "tags": []
          }
        }
      ]
    },
    {
      "cell_type": "markdown",
      "metadata": {
        "id": "ZFI245AcxTIQ"
      },
      "source": [
        "**Daten in ndarrays einlesen**"
      ]
    },
    {
      "cell_type": "code",
      "metadata": {
        "colab": {
          "base_uri": "https://localhost:8080/",
          "height": 205
        },
        "id": "psS7Q2IaxNhl",
        "outputId": "8cd8df20-2105-4e96-b872-86cdc0436bef"
      },
      "source": [
        "import pandas as pd\n",
        "\n",
        "# Tabelle aus Datei einlesen\n",
        "df = pd.read_csv(\"sample_data/california_housing_train.csv\")\n",
        "\n",
        "# Die ersten 5 Datensätze darstellen\n",
        "display(df.head())\n"
      ],
      "execution_count": null,
      "outputs": [
        {
          "output_type": "display_data",
          "data": {
            "text/html": [
              "<div>\n",
              "<style scoped>\n",
              "    .dataframe tbody tr th:only-of-type {\n",
              "        vertical-align: middle;\n",
              "    }\n",
              "\n",
              "    .dataframe tbody tr th {\n",
              "        vertical-align: top;\n",
              "    }\n",
              "\n",
              "    .dataframe thead th {\n",
              "        text-align: right;\n",
              "    }\n",
              "</style>\n",
              "<table border=\"1\" class=\"dataframe\">\n",
              "  <thead>\n",
              "    <tr style=\"text-align: right;\">\n",
              "      <th></th>\n",
              "      <th>longitude</th>\n",
              "      <th>latitude</th>\n",
              "      <th>housing_median_age</th>\n",
              "      <th>total_rooms</th>\n",
              "      <th>total_bedrooms</th>\n",
              "      <th>population</th>\n",
              "      <th>households</th>\n",
              "      <th>median_income</th>\n",
              "      <th>median_house_value</th>\n",
              "    </tr>\n",
              "  </thead>\n",
              "  <tbody>\n",
              "    <tr>\n",
              "      <th>0</th>\n",
              "      <td>-114.31</td>\n",
              "      <td>34.19</td>\n",
              "      <td>15.0</td>\n",
              "      <td>5612.0</td>\n",
              "      <td>1283.0</td>\n",
              "      <td>1015.0</td>\n",
              "      <td>472.0</td>\n",
              "      <td>1.4936</td>\n",
              "      <td>66900.0</td>\n",
              "    </tr>\n",
              "    <tr>\n",
              "      <th>1</th>\n",
              "      <td>-114.47</td>\n",
              "      <td>34.40</td>\n",
              "      <td>19.0</td>\n",
              "      <td>7650.0</td>\n",
              "      <td>1901.0</td>\n",
              "      <td>1129.0</td>\n",
              "      <td>463.0</td>\n",
              "      <td>1.8200</td>\n",
              "      <td>80100.0</td>\n",
              "    </tr>\n",
              "    <tr>\n",
              "      <th>2</th>\n",
              "      <td>-114.56</td>\n",
              "      <td>33.69</td>\n",
              "      <td>17.0</td>\n",
              "      <td>720.0</td>\n",
              "      <td>174.0</td>\n",
              "      <td>333.0</td>\n",
              "      <td>117.0</td>\n",
              "      <td>1.6509</td>\n",
              "      <td>85700.0</td>\n",
              "    </tr>\n",
              "    <tr>\n",
              "      <th>3</th>\n",
              "      <td>-114.57</td>\n",
              "      <td>33.64</td>\n",
              "      <td>14.0</td>\n",
              "      <td>1501.0</td>\n",
              "      <td>337.0</td>\n",
              "      <td>515.0</td>\n",
              "      <td>226.0</td>\n",
              "      <td>3.1917</td>\n",
              "      <td>73400.0</td>\n",
              "    </tr>\n",
              "    <tr>\n",
              "      <th>4</th>\n",
              "      <td>-114.57</td>\n",
              "      <td>33.57</td>\n",
              "      <td>20.0</td>\n",
              "      <td>1454.0</td>\n",
              "      <td>326.0</td>\n",
              "      <td>624.0</td>\n",
              "      <td>262.0</td>\n",
              "      <td>1.9250</td>\n",
              "      <td>65500.0</td>\n",
              "    </tr>\n",
              "  </tbody>\n",
              "</table>\n",
              "</div>"
            ],
            "text/plain": [
              "   longitude  latitude  ...  median_income  median_house_value\n",
              "0    -114.31     34.19  ...         1.4936             66900.0\n",
              "1    -114.47     34.40  ...         1.8200             80100.0\n",
              "2    -114.56     33.69  ...         1.6509             85700.0\n",
              "3    -114.57     33.64  ...         3.1917             73400.0\n",
              "4    -114.57     33.57  ...         1.9250             65500.0\n",
              "\n",
              "[5 rows x 9 columns]"
            ]
          },
          "metadata": {
            "tags": []
          }
        }
      ]
    },
    {
      "cell_type": "code",
      "metadata": {
        "colab": {
          "base_uri": "https://localhost:8080/"
        },
        "id": "5EENgD7Kynuz",
        "outputId": "4e095142-b977-4add-f390-7c3921a18b5e"
      },
      "source": [
        "# Tabelle zu ndarray umwandeln\n",
        "matrix_df = df.to_numpy()\n",
        "\n",
        "# Matrix mit Zeilen und Spalten\n",
        "print(matrix_df.shape)\n",
        "\n",
        "# Ausgabe der ersten Zeile\n",
        "print(matrix_df[0])\n",
        "\n",
        "# Datentyp\n",
        "print(matrix_df.dtype)"
      ],
      "execution_count": null,
      "outputs": [
        {
          "output_type": "stream",
          "text": [
            "(17000, 9)\n",
            "[-1.1431e+02  3.4190e+01  1.5000e+01  5.6120e+03  1.2830e+03  1.0150e+03\n",
            "  4.7200e+02  1.4936e+00  6.6900e+04]\n",
            "float64\n"
          ],
          "name": "stdout"
        }
      ]
    },
    {
      "cell_type": "code",
      "metadata": {
        "colab": {
          "base_uri": "https://localhost:8080/",
          "height": 175
        },
        "id": "EtYLIrLmzSc0",
        "outputId": "50d4d53d-df99-497a-bd96-dc2aa53fb8b1"
      },
      "source": [
        "# Dataframe selber mittels Dictionary erstellen\n",
        "df_people = pd.DataFrame({\n",
        "    \"Person\": [\"Lisa\", \"Max\", \"Karim\", \"Marie\"],\n",
        "    \"Einkommen\": [3000, 2300, 2600, 1900],\n",
        "    \"Beruf\": [\"Data Scientist\", \"\", \"Mechatroniker\", \"Hiwi\"],\n",
        "    \"Mietausgaben\": [950.50, 410.00, 620.00, 590.80],\n",
        "    })\n",
        "\n",
        "display(df_people.head())"
      ],
      "execution_count": null,
      "outputs": [
        {
          "output_type": "display_data",
          "data": {
            "text/html": [
              "<div>\n",
              "<style scoped>\n",
              "    .dataframe tbody tr th:only-of-type {\n",
              "        vertical-align: middle;\n",
              "    }\n",
              "\n",
              "    .dataframe tbody tr th {\n",
              "        vertical-align: top;\n",
              "    }\n",
              "\n",
              "    .dataframe thead th {\n",
              "        text-align: right;\n",
              "    }\n",
              "</style>\n",
              "<table border=\"1\" class=\"dataframe\">\n",
              "  <thead>\n",
              "    <tr style=\"text-align: right;\">\n",
              "      <th></th>\n",
              "      <th>Person</th>\n",
              "      <th>Einkommen</th>\n",
              "      <th>Beruf</th>\n",
              "      <th>Mietausgaben</th>\n",
              "    </tr>\n",
              "  </thead>\n",
              "  <tbody>\n",
              "    <tr>\n",
              "      <th>0</th>\n",
              "      <td>Lisa</td>\n",
              "      <td>3000</td>\n",
              "      <td>Data Scientist</td>\n",
              "      <td>950.5</td>\n",
              "    </tr>\n",
              "    <tr>\n",
              "      <th>1</th>\n",
              "      <td>Max</td>\n",
              "      <td>2300</td>\n",
              "      <td></td>\n",
              "      <td>410.0</td>\n",
              "    </tr>\n",
              "    <tr>\n",
              "      <th>2</th>\n",
              "      <td>Karim</td>\n",
              "      <td>2600</td>\n",
              "      <td>Mechatroniker</td>\n",
              "      <td>620.0</td>\n",
              "    </tr>\n",
              "    <tr>\n",
              "      <th>3</th>\n",
              "      <td>Marie</td>\n",
              "      <td>1900</td>\n",
              "      <td>Hiwi</td>\n",
              "      <td>590.8</td>\n",
              "    </tr>\n",
              "  </tbody>\n",
              "</table>\n",
              "</div>"
            ],
            "text/plain": [
              "  Person  Einkommen           Beruf  Mietausgaben\n",
              "0   Lisa       3000  Data Scientist         950.5\n",
              "1    Max       2300                         410.0\n",
              "2  Karim       2600   Mechatroniker         620.0\n",
              "3  Marie       1900            Hiwi         590.8"
            ]
          },
          "metadata": {
            "tags": []
          }
        }
      ]
    },
    {
      "cell_type": "code",
      "metadata": {
        "colab": {
          "base_uri": "https://localhost:8080/"
        },
        "id": "gtWyemg3zcik",
        "outputId": "df7dd8a1-dabf-4a27-91d2-562f95d40446"
      },
      "source": [
        "# Tabelle zu ndarray umwandeln\n",
        "matrix_df_people = df_people.to_numpy()\n",
        "\n",
        "# Matrix mit Zeilen und Spalten\n",
        "print(matrix_df_people.shape)\n",
        "\n",
        "# Ausgabe der ersten Zeile\n",
        "print(matrix_df_people[0])\n",
        "\n",
        "# Datentyp\n",
        "print(matrix_df_people.dtype)"
      ],
      "execution_count": null,
      "outputs": [
        {
          "output_type": "stream",
          "text": [
            "(4, 4)\n",
            "['Lisa' 3000 'Data Scientist' 950.5]\n",
            "object\n"
          ],
          "name": "stdout"
        }
      ]
    },
    {
      "cell_type": "code",
      "metadata": {
        "colab": {
          "base_uri": "https://localhost:8080/",
          "height": 229
        },
        "id": "hp0tAPFmzyyL",
        "outputId": "fcdb2d6f-ca54-4ec1-cffe-6025472aae79"
      },
      "source": [
        "df_people = pd.DataFrame({\n",
        "    \"Person\": [\"Lisa\", \"Max\", \"Karim\", \"Marie\"],\n",
        "    \"Einkommen\": [3000, 2300, 2600, 1900],\n",
        "    \"Beruf\": [\"Data Scientist\", \"\", \"Mechatroniker\", \"Hiwi\"],\n",
        "    \"Mietausgaben\": [950.50, 410.00, 620.00, 590.80],\n",
        "    })\n",
        "\n",
        "# axis=1 bedeutet entlang der Spalte\n",
        "df_people = df_people.drop([\"Person\", \"Beruf\"], axis=1)\n",
        "display(df_people)\n",
        "\n",
        "# Tabelle zu ndarray umwandeln\n",
        "matrix_df_people = df_people.to_numpy()\n",
        "\n",
        "# Matrix mit Zeilen und Spalten\n",
        "print(matrix_df_people.shape)\n",
        "\n",
        "# Ausgabe der ersten Zeile\n",
        "print(matrix_df_people[0])\n",
        "\n",
        "# Datentyp\n",
        "print(matrix_df_people.dtype)"
      ],
      "execution_count": null,
      "outputs": [
        {
          "output_type": "display_data",
          "data": {
            "text/html": [
              "<div>\n",
              "<style scoped>\n",
              "    .dataframe tbody tr th:only-of-type {\n",
              "        vertical-align: middle;\n",
              "    }\n",
              "\n",
              "    .dataframe tbody tr th {\n",
              "        vertical-align: top;\n",
              "    }\n",
              "\n",
              "    .dataframe thead th {\n",
              "        text-align: right;\n",
              "    }\n",
              "</style>\n",
              "<table border=\"1\" class=\"dataframe\">\n",
              "  <thead>\n",
              "    <tr style=\"text-align: right;\">\n",
              "      <th></th>\n",
              "      <th>Einkommen</th>\n",
              "      <th>Mietausgaben</th>\n",
              "    </tr>\n",
              "  </thead>\n",
              "  <tbody>\n",
              "    <tr>\n",
              "      <th>0</th>\n",
              "      <td>3000</td>\n",
              "      <td>950.5</td>\n",
              "    </tr>\n",
              "    <tr>\n",
              "      <th>1</th>\n",
              "      <td>2300</td>\n",
              "      <td>410.0</td>\n",
              "    </tr>\n",
              "    <tr>\n",
              "      <th>2</th>\n",
              "      <td>2600</td>\n",
              "      <td>620.0</td>\n",
              "    </tr>\n",
              "    <tr>\n",
              "      <th>3</th>\n",
              "      <td>1900</td>\n",
              "      <td>590.8</td>\n",
              "    </tr>\n",
              "  </tbody>\n",
              "</table>\n",
              "</div>"
            ],
            "text/plain": [
              "   Einkommen  Mietausgaben\n",
              "0       3000         950.5\n",
              "1       2300         410.0\n",
              "2       2600         620.0\n",
              "3       1900         590.8"
            ]
          },
          "metadata": {
            "tags": []
          }
        },
        {
          "output_type": "stream",
          "text": [
            "(4, 2)\n",
            "[3000.   950.5]\n",
            "float64\n"
          ],
          "name": "stdout"
        }
      ]
    },
    {
      "cell_type": "code",
      "metadata": {
        "colab": {
          "base_uri": "https://localhost:8080/"
        },
        "id": "HRWrcvRt0iZi",
        "outputId": "1d12ec23-5ce3-491b-9c67-71b5356da49f"
      },
      "source": [
        "# Einzelne Spalte in ein ndarray einlesen\n",
        "vector_rent = df_people[\"Mietausgaben\"].to_numpy()\n",
        "\n",
        "print(vector_rent)"
      ],
      "execution_count": null,
      "outputs": [
        {
          "output_type": "stream",
          "text": [
            "[950.5 410.  620.  590.8]\n"
          ],
          "name": "stdout"
        }
      ]
    },
    {
      "cell_type": "code",
      "metadata": {
        "colab": {
          "base_uri": "https://localhost:8080/",
          "height": 269
        },
        "id": "1UDa28hJ2PhQ",
        "outputId": "7ffa2a3f-02b9-44cf-d059-033a1c005bab"
      },
      "source": [
        "df_people = pd.DataFrame({\n",
        "    \"Person\": [\"Lisa\", \"Max\", \"Karim\", \"Marie\"],\n",
        "    \"Einkommen\": [np.nan, 2300, 2600, 1900],\n",
        "    \"Beruf\": [\"Data Scientist\", pd.NA, \"Mechatroniker\", \"Hiwi\"],\n",
        "    \"Mietausgaben\": [950.50, 410.00, 620.00, 590.80],\n",
        "    })\n",
        "\n",
        "# Tabelle der fehlende Werte\n",
        "display(df_people.isna())\n",
        "\n",
        "# Zeilen mit fehlenden Werten löschen\n",
        "# Selber zuweisen oder Attribut inplace=True\n",
        "df_people = df_people.dropna()\n",
        "\n",
        "display(df_people)\n"
      ],
      "execution_count": null,
      "outputs": [
        {
          "output_type": "display_data",
          "data": {
            "text/html": [
              "<div>\n",
              "<style scoped>\n",
              "    .dataframe tbody tr th:only-of-type {\n",
              "        vertical-align: middle;\n",
              "    }\n",
              "\n",
              "    .dataframe tbody tr th {\n",
              "        vertical-align: top;\n",
              "    }\n",
              "\n",
              "    .dataframe thead th {\n",
              "        text-align: right;\n",
              "    }\n",
              "</style>\n",
              "<table border=\"1\" class=\"dataframe\">\n",
              "  <thead>\n",
              "    <tr style=\"text-align: right;\">\n",
              "      <th></th>\n",
              "      <th>Person</th>\n",
              "      <th>Einkommen</th>\n",
              "      <th>Beruf</th>\n",
              "      <th>Mietausgaben</th>\n",
              "    </tr>\n",
              "  </thead>\n",
              "  <tbody>\n",
              "    <tr>\n",
              "      <th>0</th>\n",
              "      <td>False</td>\n",
              "      <td>True</td>\n",
              "      <td>False</td>\n",
              "      <td>False</td>\n",
              "    </tr>\n",
              "    <tr>\n",
              "      <th>1</th>\n",
              "      <td>False</td>\n",
              "      <td>False</td>\n",
              "      <td>True</td>\n",
              "      <td>False</td>\n",
              "    </tr>\n",
              "    <tr>\n",
              "      <th>2</th>\n",
              "      <td>False</td>\n",
              "      <td>False</td>\n",
              "      <td>False</td>\n",
              "      <td>False</td>\n",
              "    </tr>\n",
              "    <tr>\n",
              "      <th>3</th>\n",
              "      <td>False</td>\n",
              "      <td>False</td>\n",
              "      <td>False</td>\n",
              "      <td>False</td>\n",
              "    </tr>\n",
              "  </tbody>\n",
              "</table>\n",
              "</div>"
            ],
            "text/plain": [
              "   Person  Einkommen  Beruf  Mietausgaben\n",
              "0   False       True  False         False\n",
              "1   False      False   True         False\n",
              "2   False      False  False         False\n",
              "3   False      False  False         False"
            ]
          },
          "metadata": {
            "tags": []
          }
        },
        {
          "output_type": "display_data",
          "data": {
            "text/html": [
              "<div>\n",
              "<style scoped>\n",
              "    .dataframe tbody tr th:only-of-type {\n",
              "        vertical-align: middle;\n",
              "    }\n",
              "\n",
              "    .dataframe tbody tr th {\n",
              "        vertical-align: top;\n",
              "    }\n",
              "\n",
              "    .dataframe thead th {\n",
              "        text-align: right;\n",
              "    }\n",
              "</style>\n",
              "<table border=\"1\" class=\"dataframe\">\n",
              "  <thead>\n",
              "    <tr style=\"text-align: right;\">\n",
              "      <th></th>\n",
              "      <th>Person</th>\n",
              "      <th>Einkommen</th>\n",
              "      <th>Beruf</th>\n",
              "      <th>Mietausgaben</th>\n",
              "    </tr>\n",
              "  </thead>\n",
              "  <tbody>\n",
              "    <tr>\n",
              "      <th>2</th>\n",
              "      <td>Karim</td>\n",
              "      <td>2600.0</td>\n",
              "      <td>Mechatroniker</td>\n",
              "      <td>620.0</td>\n",
              "    </tr>\n",
              "    <tr>\n",
              "      <th>3</th>\n",
              "      <td>Marie</td>\n",
              "      <td>1900.0</td>\n",
              "      <td>Hiwi</td>\n",
              "      <td>590.8</td>\n",
              "    </tr>\n",
              "  </tbody>\n",
              "</table>\n",
              "</div>"
            ],
            "text/plain": [
              "  Person  Einkommen          Beruf  Mietausgaben\n",
              "2  Karim     2600.0  Mechatroniker         620.0\n",
              "3  Marie     1900.0           Hiwi         590.8"
            ]
          },
          "metadata": {
            "tags": []
          }
        }
      ]
    },
    {
      "cell_type": "markdown",
      "metadata": {
        "id": "cy2vK0ry1LVJ"
      },
      "source": [
        "**Mehrere Tabellen verknüpfen**"
      ]
    },
    {
      "cell_type": "code",
      "metadata": {
        "colab": {
          "base_uri": "https://localhost:8080/",
          "height": 332
        },
        "id": "uNoj9xIY1SLa",
        "outputId": "b3b478db-0bf9-4bca-f401-6ee5453ae989"
      },
      "source": [
        "df_people = pd.DataFrame({\n",
        "    \"ID\": [123, 215, 345, 715],\n",
        "    \"Person\": [\"Lisa\", \"Max\", \"Karim\", \"Marie\"],\n",
        "    \"Einkommen\": [3000, 2300, 2600, 1900],\n",
        "    \"Beruf\": [\"Data Scientist\", \"\", \"Mechatroniker\", \"Hiwi\"],\n",
        "    \"Mietausgaben\": [950.50, 410.00, 620.00, 590.80],\n",
        "    })\n",
        "df_people.set_index(\"ID\")\n",
        "\n",
        "df_exam = pd.DataFrame({\n",
        "    \"personID\": [123, 215, 345, 715],\n",
        "    \"Punkte\": [56, 40, 53, 39],\n",
        "    })\n",
        "df_exam.set_index(\"personID\")\n",
        "\n",
        "# Vereine mit den Indizes, welche nicht gleich heißen\n",
        "df_complete_join = df_people.join(df_exam)\n",
        "display(df_complete_join)\n",
        "\n",
        "#-------------------------------\n",
        "\n",
        "df_grade = pd.DataFrame({\n",
        "    \"ID\": [123, 215, 345, 715],\n",
        "    \"Note\": [1, 1, 2, 3],\n",
        "    })\n",
        "\n",
        "df_grade.set_index(\"ID\")\n",
        "\n",
        "# Vereine mit den Indizes die gleich heißen\n",
        "df_complete_merge = df_people.merge(df_grade)\n",
        "display(df_complete_merge)\n"
      ],
      "execution_count": null,
      "outputs": [
        {
          "output_type": "display_data",
          "data": {
            "text/html": [
              "<div>\n",
              "<style scoped>\n",
              "    .dataframe tbody tr th:only-of-type {\n",
              "        vertical-align: middle;\n",
              "    }\n",
              "\n",
              "    .dataframe tbody tr th {\n",
              "        vertical-align: top;\n",
              "    }\n",
              "\n",
              "    .dataframe thead th {\n",
              "        text-align: right;\n",
              "    }\n",
              "</style>\n",
              "<table border=\"1\" class=\"dataframe\">\n",
              "  <thead>\n",
              "    <tr style=\"text-align: right;\">\n",
              "      <th></th>\n",
              "      <th>ID</th>\n",
              "      <th>Person</th>\n",
              "      <th>Einkommen</th>\n",
              "      <th>Beruf</th>\n",
              "      <th>Mietausgaben</th>\n",
              "      <th>personID</th>\n",
              "      <th>Punkte</th>\n",
              "    </tr>\n",
              "  </thead>\n",
              "  <tbody>\n",
              "    <tr>\n",
              "      <th>0</th>\n",
              "      <td>123</td>\n",
              "      <td>Lisa</td>\n",
              "      <td>3000</td>\n",
              "      <td>Data Scientist</td>\n",
              "      <td>950.5</td>\n",
              "      <td>123</td>\n",
              "      <td>56</td>\n",
              "    </tr>\n",
              "    <tr>\n",
              "      <th>1</th>\n",
              "      <td>215</td>\n",
              "      <td>Max</td>\n",
              "      <td>2300</td>\n",
              "      <td></td>\n",
              "      <td>410.0</td>\n",
              "      <td>215</td>\n",
              "      <td>40</td>\n",
              "    </tr>\n",
              "    <tr>\n",
              "      <th>2</th>\n",
              "      <td>345</td>\n",
              "      <td>Karim</td>\n",
              "      <td>2600</td>\n",
              "      <td>Mechatroniker</td>\n",
              "      <td>620.0</td>\n",
              "      <td>345</td>\n",
              "      <td>53</td>\n",
              "    </tr>\n",
              "    <tr>\n",
              "      <th>3</th>\n",
              "      <td>715</td>\n",
              "      <td>Marie</td>\n",
              "      <td>1900</td>\n",
              "      <td>Hiwi</td>\n",
              "      <td>590.8</td>\n",
              "      <td>715</td>\n",
              "      <td>39</td>\n",
              "    </tr>\n",
              "  </tbody>\n",
              "</table>\n",
              "</div>"
            ],
            "text/plain": [
              "    ID Person  Einkommen           Beruf  Mietausgaben  personID  Punkte\n",
              "0  123   Lisa       3000  Data Scientist         950.5       123      56\n",
              "1  215    Max       2300                         410.0       215      40\n",
              "2  345  Karim       2600   Mechatroniker         620.0       345      53\n",
              "3  715  Marie       1900            Hiwi         590.8       715      39"
            ]
          },
          "metadata": {
            "tags": []
          }
        },
        {
          "output_type": "display_data",
          "data": {
            "text/html": [
              "<div>\n",
              "<style scoped>\n",
              "    .dataframe tbody tr th:only-of-type {\n",
              "        vertical-align: middle;\n",
              "    }\n",
              "\n",
              "    .dataframe tbody tr th {\n",
              "        vertical-align: top;\n",
              "    }\n",
              "\n",
              "    .dataframe thead th {\n",
              "        text-align: right;\n",
              "    }\n",
              "</style>\n",
              "<table border=\"1\" class=\"dataframe\">\n",
              "  <thead>\n",
              "    <tr style=\"text-align: right;\">\n",
              "      <th></th>\n",
              "      <th>ID</th>\n",
              "      <th>Person</th>\n",
              "      <th>Einkommen</th>\n",
              "      <th>Beruf</th>\n",
              "      <th>Mietausgaben</th>\n",
              "      <th>Note</th>\n",
              "    </tr>\n",
              "  </thead>\n",
              "  <tbody>\n",
              "    <tr>\n",
              "      <th>0</th>\n",
              "      <td>123</td>\n",
              "      <td>Lisa</td>\n",
              "      <td>3000</td>\n",
              "      <td>Data Scientist</td>\n",
              "      <td>950.5</td>\n",
              "      <td>1</td>\n",
              "    </tr>\n",
              "    <tr>\n",
              "      <th>1</th>\n",
              "      <td>215</td>\n",
              "      <td>Max</td>\n",
              "      <td>2300</td>\n",
              "      <td></td>\n",
              "      <td>410.0</td>\n",
              "      <td>1</td>\n",
              "    </tr>\n",
              "    <tr>\n",
              "      <th>2</th>\n",
              "      <td>345</td>\n",
              "      <td>Karim</td>\n",
              "      <td>2600</td>\n",
              "      <td>Mechatroniker</td>\n",
              "      <td>620.0</td>\n",
              "      <td>2</td>\n",
              "    </tr>\n",
              "    <tr>\n",
              "      <th>3</th>\n",
              "      <td>715</td>\n",
              "      <td>Marie</td>\n",
              "      <td>1900</td>\n",
              "      <td>Hiwi</td>\n",
              "      <td>590.8</td>\n",
              "      <td>3</td>\n",
              "    </tr>\n",
              "  </tbody>\n",
              "</table>\n",
              "</div>"
            ],
            "text/plain": [
              "    ID Person  Einkommen           Beruf  Mietausgaben  Note\n",
              "0  123   Lisa       3000  Data Scientist         950.5     1\n",
              "1  215    Max       2300                         410.0     1\n",
              "2  345  Karim       2600   Mechatroniker         620.0     2\n",
              "3  715  Marie       1900            Hiwi         590.8     3"
            ]
          },
          "metadata": {
            "tags": []
          }
        }
      ]
    },
    {
      "cell_type": "markdown",
      "metadata": {
        "id": "_Um_WtbkA53k"
      },
      "source": [
        "**Sortieren**"
      ]
    },
    {
      "cell_type": "code",
      "metadata": {
        "colab": {
          "base_uri": "https://localhost:8080/",
          "height": 332
        },
        "id": "50Y5F3cEPYVB",
        "outputId": "5ae6b52c-920d-43bc-e92f-9b8bb229c1da"
      },
      "source": [
        "df_people = pd.DataFrame({\n",
        "    \"Person\": [\"Lisa\", \"Max\", \"Karim\", \"Marie\"],\n",
        "    \"Einkommen\": [np.nan, 2300, 2600, 1900],\n",
        "    \"Beruf\": [\"Data Scientist\", pd.NA, \"Mechatroniker\", \"Hiwi\"],\n",
        "    \"Mietausgaben\": [950.50, 410.00, 620.00, 590.80],\n",
        "    })\n",
        "\n",
        "# Aufsteigen nach einer Spalte sortieren -> gibt ein sortiertes DataFrame zurück\n",
        "# inplace=True um in place zu sortieren -> keine Rückgabe\n",
        "display(df_people.sort_values(by=\"Einkommen\"))\n",
        "\n",
        "# Nach index sortieren\n",
        "display(df_people.sort_index())"
      ],
      "execution_count": null,
      "outputs": [
        {
          "output_type": "display_data",
          "data": {
            "text/html": [
              "<div>\n",
              "<style scoped>\n",
              "    .dataframe tbody tr th:only-of-type {\n",
              "        vertical-align: middle;\n",
              "    }\n",
              "\n",
              "    .dataframe tbody tr th {\n",
              "        vertical-align: top;\n",
              "    }\n",
              "\n",
              "    .dataframe thead th {\n",
              "        text-align: right;\n",
              "    }\n",
              "</style>\n",
              "<table border=\"1\" class=\"dataframe\">\n",
              "  <thead>\n",
              "    <tr style=\"text-align: right;\">\n",
              "      <th></th>\n",
              "      <th>Person</th>\n",
              "      <th>Einkommen</th>\n",
              "      <th>Beruf</th>\n",
              "      <th>Mietausgaben</th>\n",
              "    </tr>\n",
              "  </thead>\n",
              "  <tbody>\n",
              "    <tr>\n",
              "      <th>3</th>\n",
              "      <td>Marie</td>\n",
              "      <td>1900.0</td>\n",
              "      <td>Hiwi</td>\n",
              "      <td>590.8</td>\n",
              "    </tr>\n",
              "    <tr>\n",
              "      <th>1</th>\n",
              "      <td>Max</td>\n",
              "      <td>2300.0</td>\n",
              "      <td>&lt;NA&gt;</td>\n",
              "      <td>410.0</td>\n",
              "    </tr>\n",
              "    <tr>\n",
              "      <th>2</th>\n",
              "      <td>Karim</td>\n",
              "      <td>2600.0</td>\n",
              "      <td>Mechatroniker</td>\n",
              "      <td>620.0</td>\n",
              "    </tr>\n",
              "    <tr>\n",
              "      <th>0</th>\n",
              "      <td>Lisa</td>\n",
              "      <td>NaN</td>\n",
              "      <td>Data Scientist</td>\n",
              "      <td>950.5</td>\n",
              "    </tr>\n",
              "  </tbody>\n",
              "</table>\n",
              "</div>"
            ],
            "text/plain": [
              "  Person  Einkommen           Beruf  Mietausgaben\n",
              "3  Marie     1900.0            Hiwi         590.8\n",
              "1    Max     2300.0            <NA>         410.0\n",
              "2  Karim     2600.0   Mechatroniker         620.0\n",
              "0   Lisa        NaN  Data Scientist         950.5"
            ]
          },
          "metadata": {
            "tags": []
          }
        },
        {
          "output_type": "display_data",
          "data": {
            "text/html": [
              "<div>\n",
              "<style scoped>\n",
              "    .dataframe tbody tr th:only-of-type {\n",
              "        vertical-align: middle;\n",
              "    }\n",
              "\n",
              "    .dataframe tbody tr th {\n",
              "        vertical-align: top;\n",
              "    }\n",
              "\n",
              "    .dataframe thead th {\n",
              "        text-align: right;\n",
              "    }\n",
              "</style>\n",
              "<table border=\"1\" class=\"dataframe\">\n",
              "  <thead>\n",
              "    <tr style=\"text-align: right;\">\n",
              "      <th></th>\n",
              "      <th>Person</th>\n",
              "      <th>Einkommen</th>\n",
              "      <th>Beruf</th>\n",
              "      <th>Mietausgaben</th>\n",
              "    </tr>\n",
              "  </thead>\n",
              "  <tbody>\n",
              "    <tr>\n",
              "      <th>0</th>\n",
              "      <td>Lisa</td>\n",
              "      <td>NaN</td>\n",
              "      <td>Data Scientist</td>\n",
              "      <td>950.5</td>\n",
              "    </tr>\n",
              "    <tr>\n",
              "      <th>1</th>\n",
              "      <td>Max</td>\n",
              "      <td>2300.0</td>\n",
              "      <td>&lt;NA&gt;</td>\n",
              "      <td>410.0</td>\n",
              "    </tr>\n",
              "    <tr>\n",
              "      <th>2</th>\n",
              "      <td>Karim</td>\n",
              "      <td>2600.0</td>\n",
              "      <td>Mechatroniker</td>\n",
              "      <td>620.0</td>\n",
              "    </tr>\n",
              "    <tr>\n",
              "      <th>3</th>\n",
              "      <td>Marie</td>\n",
              "      <td>1900.0</td>\n",
              "      <td>Hiwi</td>\n",
              "      <td>590.8</td>\n",
              "    </tr>\n",
              "  </tbody>\n",
              "</table>\n",
              "</div>"
            ],
            "text/plain": [
              "  Person  Einkommen           Beruf  Mietausgaben\n",
              "0   Lisa        NaN  Data Scientist         950.5\n",
              "1    Max     2300.0            <NA>         410.0\n",
              "2  Karim     2600.0   Mechatroniker         620.0\n",
              "3  Marie     1900.0            Hiwi         590.8"
            ]
          },
          "metadata": {
            "tags": []
          }
        }
      ]
    },
    {
      "cell_type": "markdown",
      "metadata": {
        "id": "8O2hrmqdBRfn"
      },
      "source": [
        "**Sonstiges**"
      ]
    },
    {
      "cell_type": "code",
      "metadata": {
        "colab": {
          "base_uri": "https://localhost:8080/",
          "height": 423
        },
        "id": "RkqsKLNFHSyE",
        "outputId": "77920e87-6740-4b14-b7d1-44cd37b3a350"
      },
      "source": [
        "df_people2 = df_people[[\"Person\", \"Beruf\"]]\n",
        "\n",
        "# Daten nicht so ändern, sondern mit loc oder iloc\n",
        "df_people2[\"Person\"][0] = \"Karin\"\n",
        "display(df_people)\n",
        "display(df_people2)"
      ],
      "execution_count": null,
      "outputs": [
        {
          "output_type": "stream",
          "text": [
            "/usr/local/lib/python3.7/dist-packages/IPython/core/interactiveshell.py:2882: SettingWithCopyWarning: \n",
            "A value is trying to be set on a copy of a slice from a DataFrame\n",
            "\n",
            "See the caveats in the documentation: https://pandas.pydata.org/pandas-docs/stable/user_guide/indexing.html#returning-a-view-versus-a-copy\n",
            "  exec(code_obj, self.user_global_ns, self.user_ns)\n"
          ],
          "name": "stderr"
        },
        {
          "output_type": "display_data",
          "data": {
            "text/html": [
              "<div>\n",
              "<style scoped>\n",
              "    .dataframe tbody tr th:only-of-type {\n",
              "        vertical-align: middle;\n",
              "    }\n",
              "\n",
              "    .dataframe tbody tr th {\n",
              "        vertical-align: top;\n",
              "    }\n",
              "\n",
              "    .dataframe thead th {\n",
              "        text-align: right;\n",
              "    }\n",
              "</style>\n",
              "<table border=\"1\" class=\"dataframe\">\n",
              "  <thead>\n",
              "    <tr style=\"text-align: right;\">\n",
              "      <th></th>\n",
              "      <th>Person</th>\n",
              "      <th>Einkommen</th>\n",
              "      <th>Beruf</th>\n",
              "      <th>Mietausgaben</th>\n",
              "    </tr>\n",
              "  </thead>\n",
              "  <tbody>\n",
              "    <tr>\n",
              "      <th>0</th>\n",
              "      <td>Lisa</td>\n",
              "      <td>3000</td>\n",
              "      <td>Data Scientist</td>\n",
              "      <td>950.5</td>\n",
              "    </tr>\n",
              "    <tr>\n",
              "      <th>1</th>\n",
              "      <td>Max</td>\n",
              "      <td>2300</td>\n",
              "      <td></td>\n",
              "      <td>410.0</td>\n",
              "    </tr>\n",
              "    <tr>\n",
              "      <th>2</th>\n",
              "      <td>Karim</td>\n",
              "      <td>2600</td>\n",
              "      <td>Mechatroniker</td>\n",
              "      <td>620.0</td>\n",
              "    </tr>\n",
              "    <tr>\n",
              "      <th>3</th>\n",
              "      <td>Marie</td>\n",
              "      <td>1900</td>\n",
              "      <td>Hiwi</td>\n",
              "      <td>590.8</td>\n",
              "    </tr>\n",
              "  </tbody>\n",
              "</table>\n",
              "</div>"
            ],
            "text/plain": [
              "  Person  Einkommen           Beruf  Mietausgaben\n",
              "0   Lisa       3000  Data Scientist         950.5\n",
              "1    Max       2300                         410.0\n",
              "2  Karim       2600   Mechatroniker         620.0\n",
              "3  Marie       1900            Hiwi         590.8"
            ]
          },
          "metadata": {
            "tags": []
          }
        },
        {
          "output_type": "display_data",
          "data": {
            "text/html": [
              "<div>\n",
              "<style scoped>\n",
              "    .dataframe tbody tr th:only-of-type {\n",
              "        vertical-align: middle;\n",
              "    }\n",
              "\n",
              "    .dataframe tbody tr th {\n",
              "        vertical-align: top;\n",
              "    }\n",
              "\n",
              "    .dataframe thead th {\n",
              "        text-align: right;\n",
              "    }\n",
              "</style>\n",
              "<table border=\"1\" class=\"dataframe\">\n",
              "  <thead>\n",
              "    <tr style=\"text-align: right;\">\n",
              "      <th></th>\n",
              "      <th>Person</th>\n",
              "      <th>Beruf</th>\n",
              "    </tr>\n",
              "  </thead>\n",
              "  <tbody>\n",
              "    <tr>\n",
              "      <th>0</th>\n",
              "      <td>Karin</td>\n",
              "      <td>Data Scientist</td>\n",
              "    </tr>\n",
              "    <tr>\n",
              "      <th>1</th>\n",
              "      <td>Max</td>\n",
              "      <td></td>\n",
              "    </tr>\n",
              "    <tr>\n",
              "      <th>2</th>\n",
              "      <td>Karim</td>\n",
              "      <td>Mechatroniker</td>\n",
              "    </tr>\n",
              "    <tr>\n",
              "      <th>3</th>\n",
              "      <td>Marie</td>\n",
              "      <td>Hiwi</td>\n",
              "    </tr>\n",
              "  </tbody>\n",
              "</table>\n",
              "</div>"
            ],
            "text/plain": [
              "  Person           Beruf\n",
              "0  Karin  Data Scientist\n",
              "1    Max                \n",
              "2  Karim   Mechatroniker\n",
              "3  Marie            Hiwi"
            ]
          },
          "metadata": {
            "tags": []
          }
        }
      ]
    }
  ]
}